{
 "cells": [
  {
   "cell_type": "code",
   "execution_count": 1,
   "id": "d0f18cba",
   "metadata": {
    "ExecuteTime": {
     "end_time": "2021-12-16T12:27:38.215495Z",
     "start_time": "2021-12-16T12:27:37.229374Z"
    }
   },
   "outputs": [],
   "source": [
    "import torch\n",
    "\n",
    "path = \"cora/\"\n",
    "cites = path + \"cora.cites\"\n",
    "content = path + \"cora.content\"\n",
    "\n",
    "# 索引字典，将原本的论文id转换到从0开始编码\n",
    "index_dict = dict()\n",
    "# 标签字典，将字符串标签转化为数值\n",
    "label_to_index = dict()\n",
    "\n",
    "features = []\n",
    "labels = []\n",
    "edge_index = []\n",
    "\n",
    "with open(content,\"r\") as f:\n",
    "    nodes = f.readlines()\n",
    "    for node in nodes:\n",
    "        node_info = node.split()\n",
    "        index_dict[int(node_info[0])] = len(index_dict)\n",
    "        features.append([int(i) for i in node_info[1:-1]])\n",
    "        \n",
    "        label_str = node_info[-1]\n",
    "        if(label_str not in label_to_index.keys()):\n",
    "            label_to_index[label_str] = len(label_to_index)\n",
    "        labels.append(label_to_index[label_str])\n",
    "\n",
    "with open(cites,\"r\") as f:\n",
    "    edges = f.readlines()\n",
    "    for edge in edges:\n",
    "        start, end = edge.split()\n",
    "        # 训练时将边视为无向的，但原本的边是有向的，因此需要正反添加两次\n",
    "        edge_index.append([index_dict[int(start)],index_dict[int(end)]])\n",
    "        edge_index.append([index_dict[int(end)],index_dict[int(start)]])\n",
    "\n",
    "# 为每个节点增加自环，但后续GCN层默认会添加自环，跳过即可\n",
    "# for i in range(2708):\n",
    "#     edge_index.append([i,i])\n",
    "  \n",
    "# 转换为Tensor\n",
    "labels = torch.LongTensor(labels)\n",
    "features = torch.FloatTensor(features)\n",
    "# 行归一化\n",
    "# features = torch.nn.functional.normalize(features, p=1, dim=1)\n",
    "edge_index =  torch.LongTensor(edge_index)\n",
    "\n"
   ]
  },
  {
   "cell_type": "code",
   "execution_count": 2,
   "id": "fe3e52c3",
   "metadata": {
    "ExecuteTime": {
     "end_time": "2021-12-16T12:27:38.293774Z",
     "start_time": "2021-12-16T12:27:38.290786Z"
    }
   },
   "outputs": [],
   "source": [
    "class GCNNet(torch.nn.Module):\n",
    "    def __init__(self, num_feature, num_label):\n",
    "        super(GCNNet,self).__init__()\n",
    "        self.GCN1 = GCNConv(num_feature, 16)\n",
    "        self.GCN2 = GCNConv(16, num_label)  \n",
    "        self.dropout = torch.nn.Dropout(p=0.5)\n",
    "        \n",
    "    def forward(self, data):\n",
    "        x, edge_index = data.x, data.edge_index\n",
    "        \n",
    "        x = self.GCN1(x, edge_index)\n",
    "        x = F.relu(x)\n",
    "        x = self.dropout(x)\n",
    "        x = self.GCN2(x, edge_index)\n",
    "        \n",
    "        return F.log_softmax(x, dim=1)\n"
   ]
  },
  {
   "cell_type": "code",
   "execution_count": 3,
   "id": "6d477c54",
   "metadata": {
    "ExecuteTime": {
     "end_time": "2021-12-16T12:27:38.369985Z",
     "start_time": "2021-12-16T12:27:38.367057Z"
    }
   },
   "outputs": [],
   "source": [
    "class GATNet(torch.nn.Module):\n",
    "    def __init__(self, num_feature, num_label):\n",
    "        super(GATNet,self).__init__()\n",
    "        self.GAT1 = GATConv(num_feature, 8, heads = 8, concat = True, dropout = 0.3)\n",
    "#         self.GAT1 = GATConv(num_feature, 8, heads = 8, concat = True, dropout = 0.6)\n",
    "        self.GAT2 = GATConv(8*8, 4,heads=8, dropout = 0.3)   #8*8是上面的8*头数\n",
    "        self.GAT3 = GATConv(32,2,heads=2)\n",
    "        self.GAT4 = GATConv(4,num_label)\n",
    "\n",
    "        \n",
    "    def forward(self, data):\n",
    "        x, edge_index = data.x, data.edge_index\n",
    "        \n",
    "        x = self.GAT1(x, edge_index)\n",
    "# 更改        x = F.relu(x)\n",
    "        x = F.leaky_relu(x)\n",
    "        x = self.GAT2(x, edge_index)\n",
    "\n",
    "        x = F.leaky_relu(x)\n",
    "        x = self.GAT3(x,edge_index)\n",
    "\n",
    "        x = F.leaky_relu(x)\n",
    "        x = self.GAT4(x,edge_index)\n",
    "        \n",
    "        return F.log_softmax(x, dim=1)\n"
   ]
  },
  {
   "cell_type": "code",
   "execution_count": 4,
   "id": "7ad82691",
   "metadata": {
    "ExecuteTime": {
     "end_time": "2021-12-16T12:27:38.451259Z",
     "start_time": "2021-12-16T12:27:38.446485Z"
    }
   },
   "outputs": [],
   "source": [
    "import numpy as np\n",
    "# seed = 1234\n",
    "seed = 5678\n",
    "torch.manual_seed(seed)\n",
    "torch.cuda.manual_seed(seed)\n",
    "torch.cuda.manual_seed_all(seed)  \n",
    "np.random.seed(seed)  # Numpy module.\n",
    "# random.seed(seed)  # Python random module.\n",
    "torch.manual_seed(seed)\n",
    "torch.backends.cudnn.benchmark = False\n",
    "torch.backends.cudnn.deterministic = True\n"
   ]
  },
  {
   "cell_type": "code",
   "execution_count": 5,
   "id": "334099f5",
   "metadata": {
    "ExecuteTime": {
     "end_time": "2021-12-16T12:27:38.817359Z",
     "start_time": "2021-12-16T12:27:38.522906Z"
    }
   },
   "outputs": [],
   "source": [
    "from torch_geometric.data import Data"
   ]
  },
  {
   "cell_type": "code",
   "execution_count": 6,
   "id": "cc97b430",
   "metadata": {
    "ExecuteTime": {
     "end_time": "2021-12-16T12:27:38.894164Z",
     "start_time": "2021-12-16T12:27:38.891268Z"
    }
   },
   "outputs": [],
   "source": [
    "mask = torch.randperm(len(index_dict))\n",
    "train_mask = mask[:140]\n",
    "val_mask = mask[140:640]\n",
    "test_mask = mask[640:2708]\n",
    "\n",
    "device = torch.device('cuda:0' if torch.cuda.is_available() else 'cpu')\n",
    "\n",
    "cora = Data(x = features, edge_index = edge_index.t().contiguous(), y = labels).to(device)\n"
   ]
  },
  {
   "cell_type": "code",
   "execution_count": 7,
   "id": "123ebe87",
   "metadata": {
    "ExecuteTime": {
     "end_time": "2021-12-16T12:27:39.275183Z",
     "start_time": "2021-12-16T12:27:38.983121Z"
    }
   },
   "outputs": [],
   "source": [
    "import torch.nn.functional as F\n",
    "from torch_geometric.nn import GCNConv,GATConv,SAGEConv\n",
    "from torch_geometric.datasets import Planetoid"
   ]
  },
  {
   "cell_type": "code",
   "execution_count": 8,
   "id": "2e243ef8",
   "metadata": {
    "ExecuteTime": {
     "end_time": "2021-12-16T12:27:50.800909Z",
     "start_time": "2021-12-16T12:27:39.362912Z"
    }
   },
   "outputs": [
    {
     "name": "stdout",
     "output_type": "stream",
     "text": [
      "epoch: 0 loss: 1.9387\n",
      "epoch: 1 loss: 1.7991\n",
      "epoch: 2 loss: 1.6934\n",
      "epoch: 3 loss: 1.5814\n",
      "epoch: 4 loss: 1.4538\n",
      "epoch: 5 loss: 1.3855\n",
      "epoch: 6 loss: 1.3274\n",
      "epoch: 7 loss: 1.2898\n",
      "epoch: 8 loss: 1.2619\n",
      "epoch: 9 loss: 1.2230\n",
      "Accuracy: 0.3897\n",
      "epoch: 10 loss: 1.1934\n",
      "epoch: 11 loss: 1.1716\n",
      "epoch: 12 loss: 1.1212\n",
      "epoch: 13 loss: 1.0905\n",
      "epoch: 14 loss: 1.0749\n",
      "epoch: 15 loss: 1.0473\n",
      "epoch: 16 loss: 1.0163\n",
      "epoch: 17 loss: 1.0103\n",
      "epoch: 18 loss: 0.9814\n",
      "epoch: 19 loss: 0.9510\n",
      "Accuracy: 0.5106\n",
      "epoch: 20 loss: 0.9355\n",
      "epoch: 21 loss: 0.9339\n",
      "epoch: 22 loss: 0.9080\n",
      "epoch: 23 loss: 0.8856\n",
      "epoch: 24 loss: 0.8719\n",
      "epoch: 25 loss: 0.8433\n",
      "epoch: 26 loss: 0.8144\n",
      "epoch: 27 loss: 0.7996\n",
      "epoch: 28 loss: 0.7671\n",
      "epoch: 29 loss: 0.7458\n",
      "Accuracy: 0.5798\n",
      "epoch: 30 loss: 0.7102\n",
      "epoch: 31 loss: 0.6781\n",
      "epoch: 32 loss: 0.6533\n",
      "epoch: 33 loss: 0.6230\n",
      "epoch: 34 loss: 0.5776\n",
      "epoch: 35 loss: 0.5621\n",
      "epoch: 36 loss: 0.5412\n",
      "epoch: 37 loss: 0.5239\n",
      "epoch: 38 loss: 0.4922\n",
      "epoch: 39 loss: 0.4920\n",
      "Accuracy: 0.6277\n",
      "epoch: 40 loss: 0.4637\n",
      "epoch: 41 loss: 0.4352\n",
      "epoch: 42 loss: 0.4347\n",
      "epoch: 43 loss: 0.3979\n",
      "epoch: 44 loss: 0.3888\n",
      "epoch: 45 loss: 0.3503\n",
      "epoch: 46 loss: 0.3320\n",
      "epoch: 47 loss: 0.3328\n",
      "epoch: 48 loss: 0.3093\n",
      "epoch: 49 loss: 0.2932\n",
      "Accuracy: 0.6983\n",
      "epoch: 50 loss: 0.2783\n",
      "epoch: 51 loss: 0.2730\n",
      "epoch: 52 loss: 0.2975\n",
      "epoch: 53 loss: 0.2640\n",
      "epoch: 54 loss: 0.2600\n",
      "epoch: 55 loss: 0.2561\n",
      "epoch: 56 loss: 0.2451\n",
      "epoch: 57 loss: 0.2601\n",
      "epoch: 58 loss: 0.2442\n",
      "epoch: 59 loss: 0.2482\n",
      "Accuracy: 0.7263\n",
      "epoch: 60 loss: 0.2391\n",
      "epoch: 61 loss: 0.2186\n",
      "epoch: 62 loss: 0.2191\n",
      "epoch: 63 loss: 0.2219\n",
      "epoch: 64 loss: 0.2210\n",
      "epoch: 65 loss: 0.2050\n",
      "epoch: 66 loss: 0.2020\n",
      "epoch: 67 loss: 0.2211\n",
      "epoch: 68 loss: 0.1832\n",
      "epoch: 69 loss: 0.1983\n",
      "Accuracy: 0.7268\n",
      "epoch: 70 loss: 0.2071\n",
      "epoch: 71 loss: 0.1707\n",
      "epoch: 72 loss: 0.1848\n",
      "epoch: 73 loss: 0.1728\n",
      "epoch: 74 loss: 0.1855\n",
      "epoch: 75 loss: 0.1633\n",
      "epoch: 76 loss: 0.1569\n",
      "epoch: 77 loss: 0.1472\n",
      "epoch: 78 loss: 0.1581\n",
      "epoch: 79 loss: 0.1425\n",
      "Accuracy: 0.7311\n",
      "epoch: 80 loss: 0.1418\n",
      "epoch: 81 loss: 0.1536\n",
      "epoch: 82 loss: 0.1313\n",
      "epoch: 83 loss: 0.1426\n",
      "epoch: 84 loss: 0.1390\n",
      "epoch: 85 loss: 0.1876\n",
      "epoch: 86 loss: 0.1547\n",
      "epoch: 87 loss: 0.1752\n",
      "epoch: 88 loss: 0.1655\n",
      "epoch: 89 loss: 0.1369\n",
      "Accuracy: 0.7186\n",
      "epoch: 90 loss: 0.1378\n",
      "epoch: 91 loss: 0.1358\n",
      "epoch: 92 loss: 0.1496\n",
      "epoch: 93 loss: 0.2055\n",
      "epoch: 94 loss: 0.1158\n",
      "epoch: 95 loss: 0.1610\n",
      "epoch: 96 loss: 0.1585\n",
      "epoch: 97 loss: 0.1121\n",
      "epoch: 98 loss: 0.1128\n",
      "epoch: 99 loss: 0.1309\n",
      "Accuracy: 0.7166\n",
      "epoch: 100 loss: 0.1203\n",
      "epoch: 101 loss: 0.1140\n",
      "epoch: 102 loss: 0.0869\n",
      "epoch: 103 loss: 0.0875\n",
      "epoch: 104 loss: 0.0977\n",
      "epoch: 105 loss: 0.0782\n",
      "epoch: 106 loss: 0.0730\n",
      "epoch: 107 loss: 0.0729\n",
      "epoch: 108 loss: 0.0658\n",
      "epoch: 109 loss: 0.0677\n",
      "Accuracy: 0.7365\n",
      "epoch: 110 loss: 0.0745\n",
      "epoch: 111 loss: 0.0603\n",
      "epoch: 112 loss: 0.0691\n",
      "epoch: 113 loss: 0.0737\n",
      "epoch: 114 loss: 0.0529\n",
      "epoch: 115 loss: 0.0631\n",
      "epoch: 116 loss: 0.0956\n",
      "epoch: 117 loss: 0.0529\n",
      "epoch: 118 loss: 0.0494\n",
      "epoch: 119 loss: 0.0461\n",
      "Accuracy: 0.7384\n",
      "epoch: 120 loss: 0.0441\n",
      "epoch: 121 loss: 0.0415\n",
      "epoch: 122 loss: 0.0386\n",
      "epoch: 123 loss: 0.0394\n",
      "epoch: 124 loss: 0.0388\n",
      "epoch: 125 loss: 0.0354\n",
      "epoch: 126 loss: 0.0278\n",
      "epoch: 127 loss: 0.0344\n",
      "epoch: 128 loss: 0.0527\n",
      "epoch: 129 loss: 0.0296\n",
      "Accuracy: 0.7273\n",
      "epoch: 130 loss: 0.0419\n",
      "epoch: 131 loss: 0.0338\n",
      "epoch: 132 loss: 0.0278\n",
      "epoch: 133 loss: 0.0258\n",
      "epoch: 134 loss: 0.0298\n",
      "epoch: 135 loss: 0.0412\n",
      "epoch: 136 loss: 0.0366\n",
      "epoch: 137 loss: 0.0291\n",
      "epoch: 138 loss: 0.0241\n",
      "epoch: 139 loss: 0.0199\n",
      "Accuracy: 0.7413\n",
      "epoch: 140 loss: 0.0287\n",
      "epoch: 141 loss: 0.0298\n",
      "epoch: 142 loss: 0.0177\n",
      "epoch: 143 loss: 0.0367\n",
      "epoch: 144 loss: 0.0292\n",
      "epoch: 145 loss: 0.0203\n",
      "epoch: 146 loss: 0.0248\n",
      "epoch: 147 loss: 0.0631\n",
      "epoch: 148 loss: 0.0266\n",
      "epoch: 149 loss: 0.0245\n",
      "Accuracy: 0.7336\n",
      "epoch: 150 loss: 0.0260\n",
      "epoch: 151 loss: 0.0238\n",
      "epoch: 152 loss: 0.0187\n",
      "epoch: 153 loss: 0.0327\n",
      "epoch: 154 loss: 0.0210\n",
      "epoch: 155 loss: 0.0179\n",
      "epoch: 156 loss: 0.0247\n",
      "epoch: 157 loss: 0.0210\n",
      "epoch: 158 loss: 0.0238\n",
      "epoch: 159 loss: 0.0216\n",
      "Accuracy: 0.7408\n",
      "epoch: 160 loss: 0.0298\n",
      "epoch: 161 loss: 0.0282\n",
      "epoch: 162 loss: 0.0202\n",
      "epoch: 163 loss: 0.0237\n",
      "epoch: 164 loss: 0.0216\n",
      "epoch: 165 loss: 0.0180\n",
      "epoch: 166 loss: 0.0149\n",
      "epoch: 167 loss: 0.0206\n",
      "epoch: 168 loss: 0.0170\n",
      "epoch: 169 loss: 0.0171\n",
      "Accuracy: 0.7461\n",
      "epoch: 170 loss: 0.0145\n",
      "epoch: 171 loss: 0.0199\n",
      "epoch: 172 loss: 0.0239\n",
      "epoch: 173 loss: 0.0166\n",
      "epoch: 174 loss: 0.0140\n",
      "epoch: 175 loss: 0.0145\n",
      "epoch: 176 loss: 0.0189\n",
      "epoch: 177 loss: 0.0627\n",
      "epoch: 178 loss: 0.0204\n",
      "epoch: 179 loss: 0.0611\n",
      "Accuracy: 0.7355\n",
      "epoch: 180 loss: 0.0273\n",
      "epoch: 181 loss: 0.0246\n",
      "epoch: 182 loss: 0.0147\n",
      "epoch: 183 loss: 0.0152\n",
      "epoch: 184 loss: 0.0316\n",
      "epoch: 185 loss: 0.0185\n",
      "epoch: 186 loss: 0.0176\n",
      "epoch: 187 loss: 0.0141\n",
      "epoch: 188 loss: 0.0185\n",
      "epoch: 189 loss: 0.0192\n",
      "Accuracy: 0.7273\n",
      "epoch: 190 loss: 0.0171\n",
      "epoch: 191 loss: 0.0220\n",
      "epoch: 192 loss: 0.0126\n",
      "epoch: 193 loss: 0.0117\n",
      "epoch: 194 loss: 0.0134\n",
      "epoch: 195 loss: 0.0168\n",
      "epoch: 196 loss: 0.0116\n",
      "epoch: 197 loss: 0.0115\n",
      "epoch: 198 loss: 0.0117\n",
      "epoch: 199 loss: 0.0117\n",
      "Accuracy: 0.7345\n"
     ]
    }
   ],
   "source": [
    "model = GATNet(features.shape[1], len(label_to_index)).to(device)\n",
    "# model = GCNNet(features.shape[1], len(label_to_index)).to(device)\n",
    "\n",
    "optimizer = torch.optim.Adam(model.parameters(), lr=0.01, weight_decay=5e-4)\n",
    "\n",
    "for epoch in range(200):\n",
    "    optimizer.zero_grad()\n",
    "    out = model(cora)\n",
    "    loss = F.nll_loss(out[train_mask], cora.y[train_mask])\n",
    "    print('epoch: %d loss: %.4f' %(epoch, loss))\n",
    "    loss.backward()\n",
    "    optimizer.step()\n",
    "    \n",
    "    if((epoch + 1)% 10 == 0):\n",
    "        model.eval()\n",
    "        _, pred = model(cora).max(dim=1)\n",
    "        correct = int(pred[test_mask].eq(cora.y[test_mask]).sum().item())\n",
    "        acc = correct / len(test_mask)\n",
    "        print('Accuracy: {:.4f}'.format(acc))\n",
    "        model.train()\n"
   ]
  },
  {
   "attachments": {},
   "cell_type": "markdown",
   "id": "92acc5b7",
   "metadata": {},
   "source": [
    "## PR"
   ]
  },
  {
   "cell_type": "code",
   "execution_count": 9,
   "id": "37b95f8d",
   "metadata": {},
   "outputs": [
    {
     "name": "stdout",
     "output_type": "stream",
     "text": [
      "              precision    recall  f1-score   support\n",
      "\n",
      "           0     0.8386    0.7593    0.7970       698\n",
      "           1     0.2555    0.9459    0.4023        37\n",
      "           2     0.7278    0.6373    0.6796       193\n",
      "           3     0.6367    0.8879    0.7416       223\n",
      "           4     0.7547    0.6116    0.6757       327\n",
      "           5     0.8464    0.8257    0.8359       327\n",
      "           6     0.6936    0.6198    0.6546       263\n",
      "\n",
      "    accuracy                         0.7345      2068\n",
      "   macro avg     0.6790    0.7554    0.6838      2068\n",
      "weighted avg     0.7656    0.7345    0.7419      2068\n",
      "\n",
      "0.7345261121856866\n",
      "0.6838042626857236\n"
     ]
    }
   ],
   "source": [
    "\n",
    "A  = pred[test_mask].numpy()\n",
    "type(A)\n",
    "B = cora.y[test_mask].numpy()\n",
    "\n",
    "from sklearn.metrics import classification_report\n",
    "from sklearn.metrics import f1_score\n",
    "\n",
    "print(classification_report(y_true = A,y_pred = B,digits=4))\n",
    "\n",
    "print(f1_score(y_true=A,y_pred=B, average=\"micro\"))\n",
    "\n",
    "print(f1_score(y_true=A,y_pred=B,average=\"macro\"))\n"
   ]
  },
  {
   "cell_type": "code",
   "execution_count": 10,
   "id": "8d5a591b",
   "metadata": {
    "ExecuteTime": {
     "end_time": "2021-12-16T12:27:54.554864Z",
     "start_time": "2021-12-16T12:27:50.887435Z"
    }
   },
   "outputs": [
    {
     "data": {
      "image/png": "[encoded data removed]",
      "text/plain": [
       "<Figure size 576x432 with 1 Axes>"
      ]
     },
     "metadata": {
      "needs_background": "light"
     },
     "output_type": "display_data"
    }
   ],
   "source": [
    "from sklearn.manifold import TSNE\n",
    "\n",
    "import matplotlib.pyplot as plt\n",
    "\n",
    "import matplotlib\n",
    "\n",
    "\n",
    "ts = TSNE(n_components=2)\n",
    "ts.fit_transform(out[test_mask].to('cpu').detach().numpy())\n",
    "\n",
    "x = ts.embedding_\n",
    "y = cora.y[test_mask].to('cpu').detach().numpy()\n",
    "\n",
    "xi = []\n",
    "for i in range(7):\n",
    "    xi.append(x[np.where(y==i)])\n",
    "\n",
    "colors = ['mediumblue','green','red','yellow','cyan','mediumvioletred','mediumspringgreen']\n",
    "plt.figure(figsize=(8, 6))\n",
    "# plt.title('GAT_4_layer')\n",
    "label =['web攻击','端口1433攻击','木马后门','Myking病毒','正常日志']\n",
    "s = ['abcde']\n",
    "for i in range(7):\n",
    "    plt.scatter(xi[i][:,0],xi[i][:,1],s=30,color=colors[i],marker='o',alpha=1)\n",
    "# plt.legend(handles=scatter.legend_elements()[0], labels=label)\n",
    "\n",
    "# plt.legend((a,b),('0','1') ,loc = 'best')\n",
    "plt.savefig('GAT_4_layer_5678.png',dpi=300)"
   ]
  },
  {
   "cell_type": "code",
   "execution_count": 1,
   "id": "dc495c50",
   "metadata": {},
   "outputs": [
    {
     "data": {
      "image/png": "[encoded data removed]",
      "text/plain": [
       "<Figure size 432x288 with 1 Axes>"
      ]
     },
     "metadata": {
      "needs_background": "light"
     },
     "output_type": "display_data"
    }
   ],
   "source": [
    "import matplotlib.pyplot as plt\n",
    "import numpy as np\n",
    "from scipy.special import erf\n",
    "from scipy.optimize import minimize,leastsq, curve_fit\n",
    "\n",
    "\n",
    "def gauss(x):\n",
    "    return np.exp( -0.5 * x**2 / np.sqrt( 2 * np.pi ) )\n",
    "\n",
    "\n",
    "def Phi(x):\n",
    "    return ( 0.5 * ( 1. + erf(x/np.sqrt(2) ) ) )\n",
    "\n",
    "\n",
    "def skewed(x, x0, s, a):\n",
    "    return 2./s * gauss( ( x - x0 ) / s ) * Phi( a * ( x - x0 ) / s)\n",
    "\n",
    "\n",
    "def my_double_peak(x, A0, x0, s0, a, A1, x1, s1):\n",
    "    return A0 * skewed( x, x0, s0, a ) + A1 / s1 * gauss( ( x - x1 ) / s1 )\n",
    "\n",
    "data = np.loadtxt(\"5.csv\", skiprows=1, delimiter=',')\n",
    "xData = range(len(data))\n",
    "\n",
    "fitResult, ier = curve_fit( my_double_peak, xData, data[:,1], p0=(45e3, 400., 60,4. ,15e3, 700., 30 )  ) \n",
    "\n",
    "bestFit = [my_double_peak(x, *fitResult ) for x in range(len(data)) ]\n",
    "\n",
    "\n",
    "fig1=plt.figure(1)\n",
    "ax= fig1.add_subplot( 1, 1, 1 )\n",
    "ax.plot( data[:,1] )\n",
    "ax.plot( bestFit )\n",
    "\n",
    "plt.show()"
   ]
  }
 ],
 "metadata": {
  "kernelspec": {
   "display_name": "Python 3.7.0 ('gcn_pytorch')",
   "language": "python",
   "name": "python3"
  },
  "language_info": {
   "codemirror_mode": {
    "name": "ipython",
    "version": 3
   },
   "file_extension": ".py",
   "mimetype": "text/x-python",
   "name": "python",
   "nbconvert_exporter": "python",
   "pygments_lexer": "ipython3",
   "version": "3.7.0"
  },
  "toc": {
   "base_numbering": 1,
   "nav_menu": {},
   "number_sections": true,
   "sideBar": true,
   "skip_h1_title": false,
   "title_cell": "Table of Contents",
   "title_sidebar": "Contents",
   "toc_cell": false,
   "toc_position": {},
   "toc_section_display": true,
   "toc_window_display": false
  },
  "varInspector": {
   "cols": {
    "lenName": 16,
    "lenType": 16,
    "lenVar": 40
   },
   "kernels_config": {
    "python": {
     "delete_cmd_postfix": "",
     "delete_cmd_prefix": "del ",
     "library": "var_list.py",
     "varRefreshCmd": "print(var_dic_list())"
    },
    "r": {
     "delete_cmd_postfix": ") ",
     "delete_cmd_prefix": "rm(",
     "library": "var_list.r",
     "varRefreshCmd": "cat(var_dic_list()) "
    }
   },
   "types_to_exclude": [
    "module",
    "function",
    "builtin_function_or_method",
    "instance",
    "_Feature"
   ],
   "window_display": false
  },
  "vscode": {
   "interpreter": {
    "hash": "1d3a39f4b557d3efe1e24f37196ad42623af4fe05dd76289d4bf6459bfc16140"
   }
  }
 },
 "nbformat": 4,
 "nbformat_minor": 5
}
