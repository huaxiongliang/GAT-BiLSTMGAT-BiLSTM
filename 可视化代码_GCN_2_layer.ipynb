{
 "cells": [
  {
   "cell_type": "code",
   "execution_count": 1,
   "id": "d0f18cba",
   "metadata": {
    "ExecuteTime": {
     "end_time": "2021-12-16T12:17:50.247679Z",
     "start_time": "2021-12-16T12:17:49.261194Z"
    }
   },
   "outputs": [],
   "source": [
    "import torch\n",
    "\n",
    "path = \"cora/\"\n",
    "cites = path + \"cora_cites.txt\"\n",
    "content = path + \"cora_content.txt\"\n",
    "\n",
    "# 索引字典，将原本的论文id转换到从0开始编码\n",
    "index_dict = dict()\n",
    "# 标签字典，将字符串标签转化为数值\n",
    "label_to_index = dict()\n",
    "\n",
    "features = []\n",
    "labels = []\n",
    "edge_index = []\n",
    "\n",
    "with open(content,\"r\") as f:\n",
    "    nodes = f.readlines()\n",
    "    for node in nodes:\n",
    "        node_info = node.split()\n",
    "        index_dict[int(node_info[0])] = len(index_dict)\n",
    "        features.append([int(i) for i in node_info[1:-1]])\n",
    "        \n",
    "        label_str = node_info[-1]\n",
    "        if(label_str not in label_to_index.keys()):\n",
    "            label_to_index[label_str] = len(label_to_index)\n",
    "        labels.append(label_to_index[label_str])\n",
    "\n",
    "with open(cites,\"r\") as f:\n",
    "    edges = f.readlines()\n",
    "    for edge in edges:\n",
    "        start, end = edge.split()\n",
    "        # 训练时将边视为无向的，但原本的边是有向的，因此需要正反添加两次\n",
    "        edge_index.append([index_dict[int(start)],index_dict[int(end)]])\n",
    "        edge_index.append([index_dict[int(end)],index_dict[int(start)]])\n",
    "\n",
    "# 为每个节点增加自环，但后续GCN层默认会添加自环，跳过即可\n",
    "# for i in range(2708):\n",
    "#     edge_index.append([i,i])\n",
    "  \n",
    "# 转换为Tensor\n",
    "labels = torch.LongTensor(labels)\n",
    "features = torch.FloatTensor(features)\n",
    "# 行归一化\n",
    "# features = torch.nn.functional.normalize(features, p=1, dim=1)\n",
    "edge_index =  torch.LongTensor(edge_index)\n",
    "\n"
   ]
  },
  {
   "cell_type": "code",
   "execution_count": 2,
   "id": "fe3e52c3",
   "metadata": {
    "ExecuteTime": {
     "end_time": "2021-12-16T12:17:50.291838Z",
     "start_time": "2021-12-16T12:17:50.288840Z"
    }
   },
   "outputs": [],
   "source": [
    "class GCNNet(torch.nn.Module):\n",
    "    def __init__(self, num_feature, num_label):\n",
    "        super(GCNNet,self).__init__()\n",
    "        self.GCN1 = GCNConv(num_feature, 16)\n",
    "        self.GCN2 = GCNConv(16, num_label)  \n",
    "        self.dropout = torch.nn.Dropout(p=0.2)\n",
    "        \n",
    "    def forward(self, data):\n",
    "        x, edge_index = data.x, data.edge_index\n",
    "        \n",
    "        x = self.GCN1(x, edge_index)\n",
    "        x = F.relu(x)\n",
    "        # x = self.dropout(x)\n",
    "        \n",
    "        x = self.GCN2(x, edge_index)\n",
    "        \n",
    "\n",
    "##修改\n",
    "\n",
    "        \n",
    "        return F.log_softmax(x, dim=1)\n"
   ]
  },
  {
   "cell_type": "code",
   "execution_count": 3,
   "id": "6d477c54",
   "metadata": {
    "ExecuteTime": {
     "end_time": "2021-12-16T12:17:50.333112Z",
     "start_time": "2021-12-16T12:17:50.329920Z"
    }
   },
   "outputs": [],
   "source": [
    "class GATNet(torch.nn.Module):\n",
    "    def __init__(self, num_feature, num_label):\n",
    "        super(GATNet,self).__init__()\n",
    "        self.GAT1 = GATConv(num_feature, 8, heads = 8, concat = True, dropout = 0.6)\n",
    "        self.GAT2 = GATConv(8*8, num_label, dropout = 0.6)  \n",
    "        self.GAT3 = GATConv(6*6, num_label, dropout = 0.6) \n",
    "    def forward(self, data):\n",
    "        x, edge_index = data.x, data.edge_index\n",
    "        \n",
    "        x = self.GAT1(x, edge_index)\n",
    "        x = F.relu(x)\n",
    "        x = self.GAT2(x, edge_index)\n",
    "      \n",
    "  \n",
    "\n",
    "        \n",
    "        return F.log_softmax(x, dim=1)\n",
    "# 0是对列做归一化，1是对行做归一化\n",
    "# F.softmax(x,dim=1) 或者 F.softmax(x,dim=0)\n"
   ]
  },
  {
   "cell_type": "code",
   "execution_count": 4,
   "id": "7ad82691",
   "metadata": {
    "ExecuteTime": {
     "end_time": "2021-12-16T12:17:50.375219Z",
     "start_time": "2021-12-16T12:17:50.370747Z"
    }
   },
   "outputs": [],
   "source": [
    "import numpy as np\n",
    "# seed = 1234\n",
    "seed = 5678\n",
    "torch.manual_seed(seed)\n",
    "torch.cuda.manual_seed(seed)\n",
    "torch.cuda.manual_seed_all(seed)  \n",
    "np.random.seed(seed)  # Numpy module.\n",
    "# random.seed(seed)  # Python random module.\n",
    "torch.manual_seed(seed)\n",
    "torch.backends.cudnn.benchmark = False\n",
    "torch.backends.cudnn.deterministic = True\n"
   ]
  },
  {
   "cell_type": "code",
   "execution_count": 5,
   "id": "334099f5",
   "metadata": {
    "ExecuteTime": {
     "end_time": "2021-12-16T12:17:50.734985Z",
     "start_time": "2021-12-16T12:17:50.414599Z"
    }
   },
   "outputs": [],
   "source": [
    "from torch_geometric.data import Data  ##图数据构造器"
   ]
  },
  {
   "cell_type": "code",
   "execution_count": 40,
   "id": "cc97b430",
   "metadata": {
    "ExecuteTime": {
     "end_time": "2021-12-16T12:17:50.780723Z",
     "start_time": "2021-12-16T12:17:50.777471Z"
    }
   },
   "outputs": [],
   "source": [
    "mask = torch.randperm(len(index_dict))  #随机打乱randperm返回一个值  这里的（len(index_dict)）\n",
    "\n",
    "# torch.randperm(n)：将0~n-1（包括0和n-1）随机打乱后获得的数字序列，函数名是random permutation缩写  permutation排列组合 \n",
    "\n",
    "# 【sample】\n",
    "\n",
    "#          torch.randperm(10)\n",
    "# ===> tensor([2, 3, 6, 7, 8, 9, 1, 5, 0, 4])\n",
    "\n",
    "train_mask = mask[:110]    #把前140个打乱\n",
    "val_mask = mask[110:640]\n",
    "test_mask = mask[640:2708]\n",
    "\n",
    "device = torch.device('cuda:0' if torch.cuda.is_available() else 'cpu')\n",
    "\n",
    "cora = Data(x = features, edge_index = edge_index.t().contiguous(), y = labels).to(device)  #label看签代码，在构建图结构时候保留了。\n"
   ]
  },
  {
   "cell_type": "code",
   "execution_count": 41,
   "id": "b01453ac",
   "metadata": {},
   "outputs": [
    {
     "data": {
      "text/plain": [
       "(tensor([ 755, 1337, 2577,  307, 1439, 2625,  770,  551,  341, 2339,  426, 1424,\n",
       "         1760, 1554, 2431, 1040, 2378, 2358,  958, 2578, 2476,  960, 1352,  854,\n",
       "         1020, 1785, 1908,  928,  215, 1053, 2019, 1368, 1764, 1425,  756, 1858,\n",
       "         2519,  575, 1438, 1505, 1017, 1347, 1529, 2568,  485,  568, 1981, 2390,\n",
       "         1097, 1141,  153, 2265, 1594, 2055,   12, 2121, 1839,  830,   44,  540,\n",
       "         1065, 1210,  258,  775, 1282, 1724,  591, 1861, 2223,  274, 2093,  192,\n",
       "         1414,  128,  202,    6, 1993, 1671, 2346, 1812,  564, 1601, 1868,  825,\n",
       "          725, 1763,  287, 1431, 2225, 1402, 1245,  240, 1907, 1752, 2023, 2574,\n",
       "         2584,  351, 1828,  817,  892,  704, 1075,  996, 1019, 2187,  160, 2111,\n",
       "          461, 1165,  424, 2025, 1478, 2536, 2369, 1067, 2143, 1617,  894,  246,\n",
       "          135, 1107, 1753, 1410, 1657, 1684,  130,  895, 1883, 1112,  466, 2492,\n",
       "         2518, 1172, 2647,  121, 1508,  935,  146,  360]),\n",
       " tensor([2290, 1181,  816,  719, 2030, 1070,  773, 2028, 1341,   24, 1311, 2659,\n",
       "         1795,  363,   34,  149, 2036, 2326, 2460, 2263, 2613,  953,   42, 1244,\n",
       "          598,  338,  832, 1570, 1163,   85, 1254, 2080, 1853,  649,  519,  754,\n",
       "         1055,   19,  175, 1041, 2452, 1994, 1171,  766, 2130, 1006, 1666,  348,\n",
       "         2227, 1580, 2288, 2419,  867, 2330,  469, 2660, 2032, 2499,  388,  640,\n",
       "          151,  567, 1999, 1619, 1850,  876, 2010, 1345, 1677, 1164,  102, 1077,\n",
       "          190, 1206, 1152, 1729, 1546,  909,  208, 1695, 2349,   83, 1150, 1739,\n",
       "         1572,   82, 1291, 2532, 2169, 2380, 2180,   70, 2117,  110,  563, 2687,\n",
       "         2671, 1266, 1091, 2693, 1104, 1876, 1476,  760, 2338, 2453, 1182, 2450,\n",
       "         2024,  157,   22,  558,  801,  337, 2133,  607, 2057,   91,  248, 2124,\n",
       "          439, 1854, 1268, 1355, 1158, 1583, 2555, 2601, 1998, 1502,  745, 1525,\n",
       "          992, 2393, 2401,  494, 2628, 1270, 2429, 1304,  368, 1069,  170,  423,\n",
       "          168, 1422, 1961, 1225,   46, 1644, 2480, 2582,  969, 2547,  681, 2571,\n",
       "         1746, 1288,  188, 2556,  774, 1581,  959, 2679, 1770,  666, 1531, 1894,\n",
       "         2471, 1432, 1375, 1622, 1720, 1371,  966, 2112, 1593, 1651, 1427,  167,\n",
       "         1533,  734,  688, 1555,  549,  179, 2070, 2200,  454, 2596, 2605, 1494,\n",
       "           98,  904, 1663,  685,  347,  790, 1277,  203, 1602,  646,  648, 1784,\n",
       "         2114,  533, 1528, 2447, 1012, 2633,  808,  123, 1744, 1361, 1045,  385,\n",
       "           62, 2142,  964, 1549, 1634,  187,  100,  589, 2173, 2302,   51, 2668,\n",
       "         1847, 1166, 1453,  553,  427, 2459, 2052, 2056, 2078, 1509,  122, 1185,\n",
       "         1176, 1979,  354,  742, 1573, 1423, 2615,  592,  720,  656, 2211, 2510,\n",
       "          304, 1978, 1147, 1530, 1089, 1416, 1886,  297, 2006, 2300, 1460,  858,\n",
       "          531, 2201, 1125,  934,  259, 2004, 1229,  761,  118, 2479,  438, 2087,\n",
       "         2043,  111, 1233, 2626,  364, 2065,  606, 1557,  746,   66, 1579, 1434,\n",
       "         2458,  998, 2538, 2587, 2324,  886,  220,  269, 1686, 2487,  910, 1920,\n",
       "         1848, 2664, 2488,  196,  552, 2595,  107, 2033, 1563, 2109, 2269, 2250,\n",
       "          504,  668, 1428, 1658,  708, 2132,  239, 1643, 2261, 1274, 1504, 1823,\n",
       "         2308, 2209, 2435, 1878,  665, 2188,  523,  802,  758,  970, 1123, 2651,\n",
       "          161, 2672, 1250, 1016, 2409, 1910, 2155, 1256,  513, 2469,  456, 1960,\n",
       "          520, 1503, 2255, 1595,  881,  826, 2054,    7, 1751,  419,  249,   35,\n",
       "         1066, 2501,  605, 1687, 1071, 2655, 2297, 1027, 2199,  757, 1639, 2086,\n",
       "         1867, 2529, 1081, 1289,  716,  711, 2496,  868, 1544, 1445, 1108, 1712,\n",
       "           57, 1640, 2465, 1796, 1257, 1817, 1297,  789, 2179,  797, 1856,  743,\n",
       "         2363, 1740, 2609,  141, 1167, 1364,  559, 2020, 2512, 1228, 2667,  717,\n",
       "         2323, 1536,  863, 1919, 1761, 1976, 1477, 2074, 1568, 2691, 1674, 2029,\n",
       "         1114, 2515, 2266, 2103,  971,  163, 2027, 1517, 2589, 2387, 1284, 1138,\n",
       "         1636,   73, 2344, 1558,   33,   69, 1238, 1383, 1253, 2287,  217,  705,\n",
       "         2530,   47, 2467,  256,  543, 2328, 2618, 1381,  352, 1862, 1561, 1043,\n",
       "          224, 2238,  871,  509, 1466,  938, 1560, 2491,  691,  282, 1938, 1866,\n",
       "          508, 1240, 2495,  383,  887, 2503, 1539, 1127,  483,  289, 1385,  305,\n",
       "         1216,  447,  772, 1129, 2505,  833,  200,  413,  741, 1498, 2183,  850,\n",
       "         2243, 1465,  541,  587,  794, 2040, 1126,  311]),\n",
       " tensor([ 285, 1697,  829, 1814,  852, 1366,   79, 2270, 1204, 1442,  105, 2230,\n",
       "         1931,  401, 2461, 1049,  511,   81, 2653, 1811,  155, 1629, 2171,  391,\n",
       "         2097, 1614,  275, 1096, 1433, 2197, 1600, 2377,  527,  687, 1838,  875,\n",
       "         2475,  281, 1889, 1742, 2489,  462, 2543,  451, 2412, 1951,    5, 2108,\n",
       "         2513, 2292, 1380, 1470, 1444, 1927, 1864, 2289, 1241,   86,   97,  266,\n",
       "          284,  813,  156, 1015, 1924, 1339, 2443, 1222, 1271, 1968, 2508, 1628,\n",
       "         2091, 2309, 1806,  301,  379, 2550, 1870, 2383, 2307,  864, 1772,  634,\n",
       "         2340, 1212,  251, 1514,  257,  241,  715,  403, 1624,  809,  193, 2022,\n",
       "         2177, 1596, 1942, 1706, 2662, 2262, 2233,  579, 2011, 1093, 1261, 1272,\n",
       "         1767, 2128,  728, 1286, 1307, 2314, 1605, 1357, 2276, 2063, 1648, 2438,\n",
       "         2305, 1029, 1334, 1681, 2359,    9, 1707,  542, 2539,  162, 2436, 2356,\n",
       "         2420,  242, 1679,  550,  199, 2454,  539, 1363, 1758, 2135, 2630,  860,\n",
       "         2440,  600,  926,  936, 1781, 2175, 1109, 2110,  890,   29,  106, 1356,\n",
       "          793,   68, 1220,  332,   32, 1900,  488, 2517,  571,  377, 1143, 1722,\n",
       "         1393, 1404,  565, 1035,   10, 1638, 1024, 1033,  273, 1527,  235,  389,\n",
       "          416, 1801, 1711, 2449, 1456, 1234, 1161, 1714, 2614, 1855,  744, 1118,\n",
       "         1615,  264, 1080,  139, 1610,  314, 2698,  800,  457, 2622,  140, 2318,\n",
       "         1716,  962, 1882, 1115,  171,  119,  489, 1281,  189,  596, 2352,  453,\n",
       "         2381, 1095, 1977, 1078, 2576, 1632, 1064, 1749, 2690,  124, 1373,  104,\n",
       "          706, 2026, 2066, 2015, 2552, 1209,  937,  380, 2231, 1303, 1417, 2148,\n",
       "         1540, 1302,  236, 1435, 1660,  956, 1468, 2037,  664, 1543,  923, 1202,\n",
       "         1323,  204,  142, 2062, 1935,  983,   78, 1489, 2637, 2531, 1675, 2306,\n",
       "          445, 1851, 2424,  762, 2301, 1626,  803, 1972, 1513, 2485,  604, 1941,\n",
       "         1717,  313, 1735, 1872, 1189, 1105, 1849, 1668, 1447, 2432,  908, 1713,\n",
       "         1010, 1518, 1369, 1295,  432, 2095,  879, 2631,  262, 1835, 2474, 1673,\n",
       "         2189, 1748,  645,  877,  574,  443,  941,  737, 1599, 1799, 2299, 1087,\n",
       "         2514, 1316, 1349,  271,  572, 1407, 2526, 2569, 2059, 2484, 1890, 1719,\n",
       "         2271,  554, 2134, 1088, 1703, 2293, 2210, 1860,   55, 1188, 1178, 1917,\n",
       "         2502, 1843, 2216, 2217, 1963, 2098, 2237,  298, 2468, 2322,  408, 1826,\n",
       "         1769,  460, 1471, 1606,  619, 2466,  721,  768,  288, 1895,  450,  470,\n",
       "         2221, 1157,  698,  411, 1678,   93, 1426, 1827,  129, 2258,   52, 1507,\n",
       "         2312,  206, 1299, 2277,  831, 1030, 2559, 1132, 2205, 2522, 2361, 1173,\n",
       "         1521,  727, 1102,  265, 1154, 2082, 2021,  616, 1092, 2017, 1840,  944,\n",
       "          370, 1280, 2167, 1659, 2144, 2196, 1362, 2399, 1683, 2446, 2611, 2345,\n",
       "          410, 1130, 1702, 1710, 1584, 2149,  212, 1332, 2442, 2371, 1874, 2557,\n",
       "          950, 1170,  846,  252,  231,  764, 1340,  478, 2565, 2236, 1232, 2367,\n",
       "          430, 2184, 1162,  320,  276, 1110, 2701, 1652, 1898,  209,  659, 1054,\n",
       "         2113, 2016,  115, 1320, 2317, 1985, 2118,  399, 2654, 2136, 2214, 2682,\n",
       "         1736,  988, 2315,  263, 1251, 1001,  176, 2681,  765,   26, 1412,  669,\n",
       "         1705, 1388, 1946, 2375, 2643, 1377,  344, 1248, 2172, 2649, 2285,  791,\n",
       "          500, 1818, 2332,   14, 2675, 1292,  947,  446, 2427,  394, 2445, 2298,\n",
       "          375,  650, 1718, 2050, 2294,  822,  562, 2075,  138,  968, 1153,  459,\n",
       "         1538, 1587, 1486, 1144, 1512,  472, 1156,  599, 2331,  893, 2575,  870,\n",
       "          902,  702,  915,  677, 2194, 1313,  740,  291, 1940, 1893, 2198, 1709,\n",
       "         2240,  781, 1803,  637,  521,  133, 1857,  615, 1215, 1805,  798, 1492,\n",
       "          750, 1680, 1565, 1567, 2562,  173, 2001, 1936,  882,  752,  836,  381,\n",
       "         1522,  407, 1699, 2497, 2141,  417,  440,  686,  148,  312,  651, 2673,\n",
       "         2061, 1501, 2278, 1100, 1914, 2047, 1008, 1661, 1698,    3, 2437, 1319,\n",
       "         1991,  872, 1550, 1598, 1815, 1462,  302,  618,   50,  602,  392,  131,\n",
       "         2457, 1472,   56,  943, 1348,  921, 2598, 2639, 1532,    4, 1405, 1545,\n",
       "         2640, 2096, 1184, 1418, 2665,  776, 2321, 1230, 2005, 1962,  885, 2215,\n",
       "         1777, 2192, 2336, 1396,  561, 1808, 2220,  480, 2241,  806,  195,  963,\n",
       "         1912, 1237,  286, 1137, 1880,  272, 1836, 1330, 1395, 1693, 2478, 1664,\n",
       "         2545, 1247,   17,  657,  325,   37, 1249, 1074, 1389, 1413, 2123,  245,\n",
       "          260, 2311,  620,  924,  537,  378,  329, 2174,  982,  510,  837, 1918,\n",
       "         1325, 1446, 1575, 2127, 2695, 1255, 1057,  614, 1305, 1372, 2038, 1627,\n",
       "         1952,    0, 1032, 1062, 2357, 2150,  177,    1, 1535,   48,  306,  638,\n",
       "         2511,  769, 1490, 1226, 2398, 2498,   18, 2193, 1149, 1852, 2388, 2146,\n",
       "          184, 2034, 1787,  405, 2224, 2382, 2374, 1768,  795, 1086, 1135, 2081,\n",
       "         1831, 2423, 1044, 1922, 2120,  945, 1983, 1085, 1547, 2425, 2642, 2627,\n",
       "         1577, 1192,  166, 1047,  827, 2242,  318,  243, 2686,  268, 1689, 1790,\n",
       "         2408,  759,  866, 1186, 1258, 2343,  145,  733, 2168, 1676,  609,  308,\n",
       "          535, 2537, 2222, 2516, 1151,  627, 1004, 1145,  603,  675, 2291,  884,\n",
       "          869, 1939,  340,   45,  812, 1775, 2602, 1283, 2296,  859,  930, 2190,\n",
       "          583, 2657, 2218, 2125,  663, 2650, 1441,  244, 1023, 2590, 2165,  991,\n",
       "         2482, 1336,  201, 2234, 1542,  108, 1523,  425, 2362,  601, 2254,  630,\n",
       "         2617, 2204,  371, 1616, 2327,  873, 1582, 1457,  436, 2013, 1793,  582,\n",
       "          626, 1415,  376, 1312,  357, 2272,  804, 2638, 2284, 1824, 1800,  700,\n",
       "         2084,  874,  210,   36, 1569,   16, 2161,  751,  292,  955, 2256, 1392,\n",
       "         1911, 2039, 1146, 2389, 1519,  585, 2670,  431, 1551, 2372,  386,    8,\n",
       "         2553, 1731, 1992, 1995,  845,   49, 2549, 1932, 2044, 2430,  369, 1988,\n",
       "         1774, 1458, 1218, 1608,  147,  707,  517,  397, 1296, 1948, 1483,  185,\n",
       "         1333,  927, 1448,  723, 1980,  989,  940, 1083,  671, 1140,  315,  471,\n",
       "          353,  174, 2612, 1090, 1236, 1591,  532, 1586,   54, 2094, 2416, 1485,\n",
       "         1194,  898, 1101, 2400, 1788, 2246,  654, 2669,   38,  465,  569, 1469,\n",
       "         1353, 1797,  159, 1552,  888,  594, 2644,  739,  365,  278,  295, 1708,\n",
       "         2071, 2648, 1691, 1419, 1223, 1224, 1869, 1122, 1487, 1360,  623,  303,\n",
       "          967,  978, 2008, 2068, 1685, 1482, 1269,  213,    2, 1667, 2073, 1285,\n",
       "         1965,  493, 2434,  197,  112, 2268,  486, 1973, 2464, 1327, 2477, 1495,\n",
       "          777, 2152, 2683, 1830, 1079,  324, 2680, 1928,  294,   30, 2506, 1792,\n",
       "           13, 2014, 1430, 1036,  310, 1630,  428,  165, 1198, 1046, 1623, 2527,\n",
       "          277,  216, 2166, 1871,  481,  499,  639, 1207, 1061, 1191, 1219, 2439,\n",
       "         1833, 2303, 2456,  642, 1690,  490,  655,  418, 2137,  724, 1335,  856,\n",
       "          429, 1139,  530, 2652]))"
      ]
     },
     "execution_count": 41,
     "metadata": {},
     "output_type": "execute_result"
    }
   ],
   "source": [
    "mask[:140],mask[140:640],mask[1708:2708]"
   ]
  },
  {
   "cell_type": "code",
   "execution_count": 42,
   "id": "123ebe87",
   "metadata": {
    "ExecuteTime": {
     "end_time": "2021-12-16T12:17:51.145629Z",
     "start_time": "2021-12-16T12:17:50.827514Z"
    }
   },
   "outputs": [],
   "source": [
    "import torch.nn.functional as F\n",
    "from torch_geometric.nn import GCNConv,GATConv,SAGEConv\n",
    "from torch_geometric.datasets import Planetoid"
   ]
  },
  {
   "cell_type": "code",
   "execution_count": 43,
   "id": "2e243ef8",
   "metadata": {
    "ExecuteTime": {
     "end_time": "2021-12-16T12:22:40.951204Z",
     "start_time": "2021-12-16T12:22:35.665442Z"
    }
   },
   "outputs": [
    {
     "name": "stdout",
     "output_type": "stream",
     "text": [
      "epoch: 0 loss: 1.9538\n",
      "epoch: 1 loss: 1.8335\n",
      "epoch: 2 loss: 1.7187\n",
      "epoch: 3 loss: 1.5918\n",
      "epoch: 4 loss: 1.4699\n",
      "epoch: 5 loss: 1.3537\n",
      "epoch: 6 loss: 1.2375\n",
      "epoch: 7 loss: 1.1218\n",
      "epoch: 8 loss: 1.0121\n",
      "epoch: 9 loss: 0.9098\n",
      "Accuracy: 0.5706\n",
      "epoch: 10 loss: 0.8164\n",
      "epoch: 11 loss: 0.7305\n",
      "epoch: 12 loss: 0.6514\n",
      "epoch: 13 loss: 0.5790\n",
      "epoch: 14 loss: 0.5134\n",
      "epoch: 15 loss: 0.4545\n",
      "epoch: 16 loss: 0.4016\n",
      "epoch: 17 loss: 0.3544\n",
      "epoch: 18 loss: 0.3120\n",
      "epoch: 19 loss: 0.2738\n",
      "Accuracy: 0.7350\n",
      "epoch: 20 loss: 0.2398\n",
      "epoch: 21 loss: 0.2094\n",
      "epoch: 22 loss: 0.1823\n",
      "epoch: 23 loss: 0.1584\n",
      "epoch: 24 loss: 0.1375\n",
      "epoch: 25 loss: 0.1193\n",
      "epoch: 26 loss: 0.1036\n",
      "epoch: 27 loss: 0.0903\n",
      "epoch: 28 loss: 0.0790\n",
      "epoch: 29 loss: 0.0694\n",
      "Accuracy: 0.7974\n",
      "epoch: 30 loss: 0.0614\n",
      "epoch: 31 loss: 0.0546\n",
      "epoch: 32 loss: 0.0489\n",
      "epoch: 33 loss: 0.0441\n",
      "epoch: 34 loss: 0.0400\n",
      "epoch: 35 loss: 0.0366\n",
      "epoch: 36 loss: 0.0336\n",
      "epoch: 37 loss: 0.0310\n",
      "epoch: 38 loss: 0.0289\n",
      "epoch: 39 loss: 0.0270\n",
      "Accuracy: 0.8100\n",
      "epoch: 40 loss: 0.0254\n",
      "epoch: 41 loss: 0.0240\n",
      "epoch: 42 loss: 0.0228\n",
      "epoch: 43 loss: 0.0218\n",
      "epoch: 44 loss: 0.0210\n",
      "epoch: 45 loss: 0.0202\n",
      "epoch: 46 loss: 0.0196\n",
      "epoch: 47 loss: 0.0190\n",
      "epoch: 48 loss: 0.0186\n",
      "epoch: 49 loss: 0.0182\n",
      "Accuracy: 0.8109\n",
      "epoch: 50 loss: 0.0179\n",
      "epoch: 51 loss: 0.0177\n",
      "epoch: 52 loss: 0.0175\n",
      "epoch: 53 loss: 0.0173\n",
      "epoch: 54 loss: 0.0172\n",
      "epoch: 55 loss: 0.0171\n",
      "epoch: 56 loss: 0.0171\n",
      "epoch: 57 loss: 0.0170\n",
      "epoch: 58 loss: 0.0170\n",
      "epoch: 59 loss: 0.0171\n",
      "Accuracy: 0.8075\n",
      "epoch: 60 loss: 0.0171\n",
      "epoch: 61 loss: 0.0171\n",
      "epoch: 62 loss: 0.0172\n",
      "epoch: 63 loss: 0.0173\n",
      "epoch: 64 loss: 0.0173\n",
      "epoch: 65 loss: 0.0174\n",
      "epoch: 66 loss: 0.0175\n",
      "epoch: 67 loss: 0.0176\n",
      "epoch: 68 loss: 0.0177\n",
      "epoch: 69 loss: 0.0177\n",
      "Accuracy: 0.8095\n",
      "epoch: 70 loss: 0.0178\n",
      "epoch: 71 loss: 0.0179\n",
      "epoch: 72 loss: 0.0180\n",
      "epoch: 73 loss: 0.0180\n",
      "epoch: 74 loss: 0.0181\n",
      "epoch: 75 loss: 0.0181\n",
      "epoch: 76 loss: 0.0182\n",
      "epoch: 77 loss: 0.0182\n",
      "epoch: 78 loss: 0.0182\n",
      "epoch: 79 loss: 0.0182\n",
      "Accuracy: 0.8100\n",
      "tensor([[-2.0100e-02, -5.9027e+00, -5.8052e+00,  ..., -6.3936e+00,\n",
      "         -8.4186e+00, -5.4893e+00],\n",
      "        [-2.6555e+00, -9.8434e-01, -2.3824e+00,  ..., -1.7486e+00,\n",
      "         -4.3476e+00, -2.0922e+00],\n",
      "        [-4.7483e+00, -4.8646e+00, -4.8329e-02,  ..., -4.3336e+00,\n",
      "         -5.2019e+00, -4.6897e+00],\n",
      "        ...,\n",
      "        [-8.1380e+00, -7.5455e+00, -8.6168e+00,  ..., -8.3152e+00,\n",
      "         -4.0244e-03, -5.8939e+00],\n",
      "        [-7.8379e+00, -8.2909e+00, -8.4370e+00,  ..., -1.1614e+01,\n",
      "         -7.3799e+00, -1.5082e-03],\n",
      "        [-1.7442e-03, -8.5044e+00, -8.4564e+00,  ..., -9.3805e+00,\n",
      "         -1.0227e+01, -6.7947e+00]], grad_fn=<LogSoftmaxBackward>)\n"
     ]
    }
   ],
   "source": [
    "# model = GATNet(features.shape[1], len(label_to_index)).to(device)\n",
    "model = GCNNet(features.shape[1], len(label_to_index)).to(device)\n",
    "\n",
    "optimizer = torch.optim.Adam(model.parameters(), lr=0.01, weight_decay=5e-4)\n",
    "\n",
    "for epoch in range(80):\n",
    "    optimizer.zero_grad()  #梯度信息置0\n",
    "    out = model(cora)       #前向传播了，看你自己GCNNET的定义\n",
    "    loss = F.nll_loss(out[train_mask], cora.y[train_mask])  #交叉熵损失函数 \n",
    "    print('epoch: %d loss: %.4f' %(epoch, loss))\n",
    "    loss.backward()          #反向传播\n",
    "    optimizer.step()           #更新网络参数    一个梯度，一个网络参数\n",
    "    \n",
    "    if((epoch + 1)% 10 == 0):\n",
    "        model.eval()\n",
    "        _, pred = model(cora).max(dim=1)  \n",
    "        correct = int(pred[test_mask].eq(cora.y[test_mask]).sum().item())\n",
    "        acc = correct / len(test_mask)\n",
    "        print('Accuracy: {:.4f}'.format(acc))\n",
    "        model.train()\n",
    "\n",
    "print(out)"
   ]
  },
  {
   "cell_type": "code",
   "execution_count": 44,
   "id": "271b4c12",
   "metadata": {},
   "outputs": [],
   "source": [
    "#     optimizer.zero_grad() 清空过往梯度；          神经网络步骤一般如下\n",
    "#     loss.backward() 反向传播，计算当前梯度；\n",
    "#     optimizer.step() 根据梯度更新网络参数\n",
    " \n",
    "# or这种情况\n",
    "#     for i in range(num):\n",
    "#         loss+=Loss(input,target)\n",
    "#     optimizer.zero_grad() 清空过往梯度；\n",
    "#     loss.backward() 反向传播，计算当前梯度；\n",
    "#     optimizer.step() 根据梯度更新网络参数"
   ]
  },
  {
   "cell_type": "code",
   "execution_count": 45,
   "id": "b3668a83",
   "metadata": {},
   "outputs": [
    {
     "name": "stdout",
     "output_type": "stream",
     "text": [
      "              precision    recall  f1-score   support\n",
      "\n",
      "           0     0.9145    0.7875    0.8463       720\n",
      "           1     0.7426    0.8145    0.7769       124\n",
      "           2     0.7848    0.7126    0.7470       174\n",
      "           3     0.7554    0.8547    0.8019       289\n",
      "           4     0.6596    0.6940    0.6764       268\n",
      "           5     0.8952    0.9369    0.9156       301\n",
      "           6     0.7304    0.8750    0.7962       192\n",
      "\n",
      "    accuracy                         0.8100      2068\n",
      "   macro avg     0.7832    0.8107    0.7943      2068\n",
      "weighted avg     0.8181    0.8100    0.8110      2068\n",
      "\n",
      "0.8099613152804642\n",
      "0.7943263314497878\n"
     ]
    }
   ],
   "source": [
    "A  = pred[test_mask].numpy()\n",
    "type(A)\n",
    "B = cora.y[test_mask].numpy()\n",
    "\n",
    "from sklearn.metrics import classification_report\n",
    "from sklearn.metrics import f1_score\n",
    "\n",
    "print(classification_report(y_true = A,y_pred = B,digits=4))\n",
    "\n",
    "print(f1_score(y_true=A,y_pred=B, average=\"micro\"))\n",
    "\n",
    "print(f1_score(y_true=A,y_pred=B,average=\"macro\"))\n"
   ]
  },
  {
   "cell_type": "code",
   "execution_count": 46,
   "id": "8d5a591b",
   "metadata": {
    "ExecuteTime": {
     "end_time": "2021-12-16T12:22:47.700664Z",
     "start_time": "2021-12-16T12:22:44.520941Z"
    }
   },
   "outputs": [
    {
     "data": {
      "image/png": "[encoded data removed]",
      "text/plain": [
       "<Figure size 576x432 with 1 Axes>"
      ]
     },
     "metadata": {
      "needs_background": "light"
     },
     "output_type": "display_data"
    }
   ],
   "source": [
    "from sklearn.manifold import TSNE\n",
    "\n",
    "import matplotlib.pyplot as plt\n",
    "\n",
    "import matplotlib\n",
    "\n",
    "\n",
    "ts = TSNE(n_components=2)\n",
    "ts.fit_transform(out[test_mask].to('cpu').detach().numpy())\n",
    "\n",
    "x = ts.embedding_\n",
    "y = cora.y[test_mask].to('cpu').detach().numpy()\n",
    "\n",
    "xi = []\n",
    "for i in range(7):\n",
    "    xi.append(x[np.where(y==i)])\n",
    "\n",
    "colors = ['mediumblue','green','red','yellow','cyan','mediumvioletred','mediumspringgreen']\n",
    "plt.figure(figsize=(8, 6))\n",
    "# plt.title('GCN_2_layer') \n",
    "for i in range(7):\n",
    "    plt.scatter(xi[i][:,0],xi[i][:,1],s=30,color=colors[i],marker='o',alpha=1)\n",
    "plt.savefig('GCN_2_layer_5678.png')"
   ]
  },
  {
   "cell_type": "code",
   "execution_count": 13,
   "id": "cc56fab1",
   "metadata": {},
   "outputs": [
    {
     "data": {
      "text/plain": [
       "torch.Size([2068, 7])"
      ]
     },
     "execution_count": 13,
     "metadata": {},
     "output_type": "execute_result"
    }
   ],
   "source": [
    "out[test_mask].shape   #这个可视化是归一可视化吗？？？并不是embedding可视化"
   ]
  },
  {
   "cell_type": "code",
   "execution_count": 14,
   "id": "6130128b",
   "metadata": {},
   "outputs": [],
   "source": [
    "a = out[test_mask]"
   ]
  },
  {
   "cell_type": "code",
   "execution_count": 15,
   "id": "de3c15a5",
   "metadata": {},
   "outputs": [],
   "source": [
    "A = a.detach().numpy()\n"
   ]
  },
  {
   "cell_type": "code",
   "execution_count": 16,
   "id": "d0b73d37",
   "metadata": {},
   "outputs": [],
   "source": [
    "np.savetxt('embedding.csv', A, delimiter=\",\")"
   ]
  },
  {
   "cell_type": "code",
   "execution_count": 17,
   "id": "c65ca9f6",
   "metadata": {},
   "outputs": [
    {
     "data": {
      "text/plain": [
       "torch.Size([2068])"
      ]
     },
     "execution_count": 17,
     "metadata": {},
     "output_type": "execute_result"
    }
   ],
   "source": [
    "y = cora.y[test_mask]\n",
    "y.shape"
   ]
  },
  {
   "cell_type": "code",
   "execution_count": 18,
   "id": "b0a94bd3",
   "metadata": {},
   "outputs": [],
   "source": [
    "b = y"
   ]
  },
  {
   "cell_type": "code",
   "execution_count": 19,
   "id": "f7dae8d3",
   "metadata": {},
   "outputs": [],
   "source": [
    "B = b.detach().numpy()\n",
    "np.savetxt('embedding_label.csv', B, delimiter=\",\")\n"
   ]
  },
  {
   "cell_type": "markdown",
   "id": "6262b62d",
   "metadata": {},
   "source": [
    "GAT_embedding+bilstm\n"
   ]
  },
  {
   "cell_type": "code",
   "execution_count": null,
   "id": "428244e2",
   "metadata": {},
   "outputs": [],
   "source": []
  },
  {
   "cell_type": "code",
   "execution_count": null,
   "id": "79c47916",
   "metadata": {},
   "outputs": [],
   "source": []
  },
  {
   "cell_type": "code",
   "execution_count": null,
   "id": "39739ae1",
   "metadata": {},
   "outputs": [],
   "source": []
  },
  {
   "cell_type": "markdown",
   "id": "13ba540b",
   "metadata": {},
   "source": [
    "反转"
   ]
  },
  {
   "cell_type": "code",
   "execution_count": 20,
   "id": "37dead0c",
   "metadata": {},
   "outputs": [],
   "source": [
    "def reverseString_1(s):     \n",
    "        temp = []\n",
    "        a = []\n",
    "        b = []\n",
    "        temp = list(s)\n",
    "        number = ['0','1','2','3','4','5','6','7','8','9']\n",
    "        for i in range(len(s)):\n",
    "            # temp.append(s[len(s)-1-i])\n",
    "            if s[i] in number:\n",
    "                a.append(s[i])  #值\n",
    "                b.append(i-1) #位置\n",
    "        a.reverse() #值\n",
    "        b.reverse() #位置\n",
    "        for i in range(len(b)):\n",
    "            k = b[i]-1\n",
    "            j = a[i]\n",
    "            temp[k] = j           \n",
    "        # temp = s\n",
    "        temp = ''.join(temp)\n",
    "        return temp \n",
    "\n"
   ]
  },
  {
   "cell_type": "code",
   "execution_count": 21,
   "id": "320d0273",
   "metadata": {},
   "outputs": [
    {
     "data": {
      "text/plain": [
       "'k3m2'"
      ]
     },
     "execution_count": 21,
     "metadata": {},
     "output_type": "execute_result"
    }
   ],
   "source": [
    "reverseString_1(s='k2m3')"
   ]
  },
  {
   "cell_type": "code",
   "execution_count": 22,
   "id": "e9349e37",
   "metadata": {},
   "outputs": [
    {
     "name": "stdout",
     "output_type": "stream",
     "text": [
      "\n"
     ]
    }
   ],
   "source": [
    "s = input(\"输入:\")\n",
    "temp = []\n",
    "a = []\n",
    "b = []\n",
    "temp = list(s)\n",
    "number = ['0','1','2','3','4','5','6','7','8','9']\n",
    "for i in range(len(s)):\n",
    "            # temp.append(s[len(s)-1-i])\n",
    "    if s[i] in number:\n",
    "        a.append(s[i])  #值\n",
    "        b.append(i-1) #位置\n",
    "a.reverse() #值\n",
    "b.reverse() #位置\n",
    "for i in range(len(b)):\n",
    "    k = b[i]-1\n",
    "    j = a[i]\n",
    "    temp[k] = j           \n",
    "        # temp = s\n",
    "temp = ''.join(temp)\n",
    "print(temp)"
   ]
  },
  {
   "cell_type": "code",
   "execution_count": 23,
   "id": "1e057b3b",
   "metadata": {},
   "outputs": [
    {
     "name": "stdout",
     "output_type": "stream",
     "text": [
      "7\n",
      "spend is 1.005072832107544\n",
      "将此操作保留至日志\n"
     ]
    }
   ],
   "source": [
    "import time\n",
    "def time_logger(flag = 0):\n",
    "    def showtime(func):\n",
    "        def wrapper(a, b):\n",
    "            start_time = time.time()\n",
    "            func(a,b)\n",
    "            end_time = time.time()\n",
    "            print('spend is {}'.format(end_time - start_time))\n",
    "            \n",
    "            if flag:\n",
    "                print('将此操作保留至日志') \n",
    "        return wrapper \n",
    "    return showtime\n",
    "\n",
    "@time_logger(2)  #得到闭包函数showtime,add = showtime(add)\n",
    "def add(a, b):\n",
    "    print(a+b)\n",
    "    time.sleep(1)\n",
    "add(3,4)\n"
   ]
  },
  {
   "cell_type": "code",
   "execution_count": null,
   "id": "a8116127",
   "metadata": {},
   "outputs": [],
   "source": []
  }
 ],
 "metadata": {
  "kernelspec": {
   "display_name": "Python 3.7.0 ('gcn_pytorch')",
   "language": "python",
   "name": "python3"
  },
  "language_info": {
   "codemirror_mode": {
    "name": "ipython",
    "version": 3
   },
   "file_extension": ".py",
   "mimetype": "text/x-python",
   "name": "python",
   "nbconvert_exporter": "python",
   "pygments_lexer": "ipython3",
   "version": "3.7.0"
  },
  "toc": {
   "base_numbering": 1,
   "nav_menu": {},
   "number_sections": true,
   "sideBar": true,
   "skip_h1_title": false,
   "title_cell": "Table of Contents",
   "title_sidebar": "Contents",
   "toc_cell": false,
   "toc_position": {},
   "toc_section_display": true,
   "toc_window_display": false
  },
  "varInspector": {
   "cols": {
    "lenName": 16,
    "lenType": 16,
    "lenVar": 40
   },
   "kernels_config": {
    "python": {
     "delete_cmd_postfix": "",
     "delete_cmd_prefix": "del ",
     "library": "var_list.py",
     "varRefreshCmd": "print(var_dic_list())"
    },
    "r": {
     "delete_cmd_postfix": ") ",
     "delete_cmd_prefix": "rm(",
     "library": "var_list.r",
     "varRefreshCmd": "cat(var_dic_list()) "
    }
   },
   "types_to_exclude": [
    "module",
    "function",
    "builtin_function_or_method",
    "instance",
    "_Feature"
   ],
   "window_display": false
  },
  "vscode": {
   "interpreter": {
    "hash": "1d3a39f4b557d3efe1e24f37196ad42623af4fe05dd76289d4bf6459bfc16140"
   }
  }
 },
 "nbformat": 4,
 "nbformat_minor": 5
}
