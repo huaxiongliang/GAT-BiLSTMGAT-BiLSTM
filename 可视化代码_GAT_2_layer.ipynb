{
 "cells": [
  {
   "cell_type": "code",
   "execution_count": 1,
   "id": "d0f18cba",
   "metadata": {
    "ExecuteTime": {
     "end_time": "2021-12-16T12:27:38.215495Z",
     "start_time": "2021-12-16T12:27:37.229374Z"
    }
   },
   "outputs": [],
   "source": [
    "import torch\n",
    "\n",
    "path = \"cora/\"\n",
    "cites = path + \"cora.cites\"\n",
    "content = path + \"cora.content\"\n",
    "\n",
    "# 索引字典，将原本的论文id转换到从0开始编码\n",
    "index_dict = dict()\n",
    "# 标签字典，将字符串标签转化为数值\n",
    "label_to_index = dict()\n",
    "\n",
    "features = []\n",
    "labels = []\n",
    "edge_index = []\n",
    "\n",
    "with open(content,\"r\") as f:\n",
    "    nodes = f.readlines()\n",
    "    for node in nodes:\n",
    "        node_info = node.split()\n",
    "        index_dict[int(node_info[0])] = len(index_dict)\n",
    "        features.append([int(i) for i in node_info[1:-1]])\n",
    "        \n",
    "        label_str = node_info[-1]\n",
    "        if(label_str not in label_to_index.keys()):\n",
    "            label_to_index[label_str] = len(label_to_index)\n",
    "        labels.append(label_to_index[label_str])\n",
    "\n",
    "with open(cites,\"r\") as f:\n",
    "    edges = f.readlines()\n",
    "    for edge in edges:\n",
    "        start, end = edge.split()\n",
    "        # 训练时将边视为无向的，但原本的边是有向的，因此需要正反添加两次\n",
    "        edge_index.append([index_dict[int(start)],index_dict[int(end)]])\n",
    "        edge_index.append([index_dict[int(end)],index_dict[int(start)]])\n",
    "\n",
    "# 为每个节点增加自环，但后续GCN层默认会添加自环，跳过即可\n",
    "# for i in range(2708):\n",
    "#     edge_index.append([i,i])\n",
    "  \n",
    "# 转换为Tensor\n",
    "labels = torch.LongTensor(labels)\n",
    "features = torch.FloatTensor(features)\n",
    "# 行归一化\n",
    "# features = torch.nn.functional.normalize(features, p=1, dim=1)\n",
    "edge_index =  torch.LongTensor(edge_index)\n",
    "\n"
   ]
  },
  {
   "cell_type": "code",
   "execution_count": 2,
   "id": "fe3e52c3",
   "metadata": {
    "ExecuteTime": {
     "end_time": "2021-12-16T12:27:38.293774Z",
     "start_time": "2021-12-16T12:27:38.290786Z"
    }
   },
   "outputs": [],
   "source": [
    "class GCNNet(torch.nn.Module):\n",
    "    def __init__(self, num_feature, num_label):\n",
    "        super(GCNNet,self).__init__()\n",
    "        self.GCN1 = GCNConv(num_feature, 16)\n",
    "        self.GCN2 = GCNConv(16, num_label)  \n",
    "        self.dropout = torch.nn.Dropout(p=0.5)\n",
    "        \n",
    "    def forward(self, data):\n",
    "        x, edge_index = data.x, data.edge_index\n",
    "        \n",
    "        x = self.GCN1(x, edge_index)\n",
    "        x = F.relu(x)\n",
    " \n",
    "        x = self.GCN2(x, edge_index)\n",
    "        \n",
    "        return F.log_softmax(x, dim=1)\n"
   ]
  },
  {
   "cell_type": "code",
   "execution_count": 3,
   "id": "6d477c54",
   "metadata": {
    "ExecuteTime": {
     "end_time": "2021-12-16T12:27:38.369985Z",
     "start_time": "2021-12-16T12:27:38.367057Z"
    }
   },
   "outputs": [],
   "source": [
    "class GATNet(torch.nn.Module):\n",
    "    def __init__(self, num_feature, num_label):\n",
    "        super(GATNet,self).__init__()\n",
    "        self.GAT1 = GATConv(num_feature, 6, heads = 6, concat = True, dropout = 0.5)\n",
    "#         self.GAT1 = GATConv(num_feature, 8, heads = 8, concat = True, dropout = 0.6)\n",
    "        self.GAT2 = GATConv(6*6, num_label, dropout = 0.3)  \n",
    "        \n",
    "    def forward(self, data):\n",
    "        x, edge_index = data.x, data.edge_index\n",
    "        \n",
    "        x = self.GAT1(x, edge_index)\n",
    "# 更改        x = F.relu(x)\n",
    "        x = F.leaky_relu(x)\n",
    "        x = self.GAT2(x, edge_index)\n",
    "        #x = F.leaky_relu(x)\n",
    "        \n",
    "        return F.log_softmax(x, dim=1)\n"
   ]
  },
  {
   "cell_type": "code",
   "execution_count": 4,
   "id": "def093fe",
   "metadata": {},
   "outputs": [
    {
     "data": {
      "text/plain": [
       "(1433, 7)"
      ]
     },
     "execution_count": 4,
     "metadata": {},
     "output_type": "execute_result"
    }
   ],
   "source": [
    "features.shape[1], len(label_to_index)"
   ]
  },
  {
   "cell_type": "code",
   "execution_count": 5,
   "id": "7ad82691",
   "metadata": {
    "ExecuteTime": {
     "end_time": "2021-12-16T12:27:38.451259Z",
     "start_time": "2021-12-16T12:27:38.446485Z"
    }
   },
   "outputs": [],
   "source": [
    "import numpy as np\n",
    "# seed = 1234\n",
    "seed = 5678\n",
    "torch.manual_seed(seed)\n",
    "torch.cuda.manual_seed(seed)\n",
    "torch.cuda.manual_seed_all(seed)  \n",
    "np.random.seed(seed)  # Numpy module.\n",
    "# random.seed(seed)  # Python random module.\n",
    "torch.manual_seed(seed)\n",
    "torch.backends.cudnn.benchmark = False\n",
    "torch.backends.cudnn.deterministic = True\n"
   ]
  },
  {
   "cell_type": "code",
   "execution_count": 6,
   "id": "334099f5",
   "metadata": {
    "ExecuteTime": {
     "end_time": "2021-12-16T12:27:38.817359Z",
     "start_time": "2021-12-16T12:27:38.522906Z"
    }
   },
   "outputs": [],
   "source": [
    "from torch_geometric.data import Data"
   ]
  },
  {
   "cell_type": "code",
   "execution_count": 7,
   "id": "cc97b430",
   "metadata": {
    "ExecuteTime": {
     "end_time": "2021-12-16T12:27:38.894164Z",
     "start_time": "2021-12-16T12:27:38.891268Z"
    }
   },
   "outputs": [],
   "source": [
    "mask = torch.randperm(len(index_dict))\n",
    "train_mask = mask[:140]\n",
    "val_mask = mask[140:640]\n",
    "test_mask = mask[640:2708]\n",
    "\n",
    "device = torch.device('cuda:0' if torch.cuda.is_available() else 'cpu')\n",
    "\n",
    "cora = Data(x = features, edge_index = edge_index.t().contiguous(), y = labels).to(device)\n"
   ]
  },
  {
   "cell_type": "code",
   "execution_count": 8,
   "id": "123ebe87",
   "metadata": {
    "ExecuteTime": {
     "end_time": "2021-12-16T12:27:39.275183Z",
     "start_time": "2021-12-16T12:27:38.983121Z"
    }
   },
   "outputs": [],
   "source": [
    "import torch.nn.functional as F\n",
    "from torch_geometric.nn import GCNConv,GATConv,SAGEConv\n",
    "from torch_geometric.datasets import Planetoid"
   ]
  },
  {
   "cell_type": "code",
   "execution_count": 9,
   "id": "2e243ef8",
   "metadata": {
    "ExecuteTime": {
     "end_time": "2021-12-16T12:27:50.800909Z",
     "start_time": "2021-12-16T12:27:39.362912Z"
    }
   },
   "outputs": [
    {
     "name": "stdout",
     "output_type": "stream",
     "text": [
      "epoch: 0 loss: 1.9695\n",
      "epoch: 1 loss: 1.7632\n",
      "epoch: 2 loss: 1.5851\n",
      "epoch: 3 loss: 1.3789\n",
      "epoch: 4 loss: 1.2098\n",
      "epoch: 5 loss: 0.9976\n",
      "epoch: 6 loss: 0.8389\n",
      "epoch: 7 loss: 0.6880\n",
      "epoch: 8 loss: 0.5708\n",
      "epoch: 9 loss: 0.5839\n",
      "Accuracy: 0.7582\n",
      "epoch: 10 loss: 0.4474\n",
      "epoch: 11 loss: 0.3334\n",
      "epoch: 12 loss: 0.2846\n",
      "epoch: 13 loss: 0.2767\n",
      "epoch: 14 loss: 0.2673\n",
      "epoch: 15 loss: 0.2477\n",
      "epoch: 16 loss: 0.1859\n",
      "epoch: 17 loss: 0.1943\n",
      "epoch: 18 loss: 0.1476\n",
      "epoch: 19 loss: 0.1776\n",
      "Accuracy: 0.7955\n",
      "epoch: 20 loss: 0.1680\n",
      "epoch: 21 loss: 0.1268\n",
      "epoch: 22 loss: 0.1091\n",
      "epoch: 23 loss: 0.0831\n",
      "epoch: 24 loss: 0.1461\n",
      "epoch: 25 loss: 0.1488\n",
      "epoch: 26 loss: 0.0992\n",
      "epoch: 27 loss: 0.1138\n",
      "epoch: 28 loss: 0.1028\n",
      "epoch: 29 loss: 0.1444\n",
      "Accuracy: 0.7945\n",
      "epoch: 30 loss: 0.0492\n",
      "epoch: 31 loss: 0.0829\n",
      "epoch: 32 loss: 0.1423\n",
      "epoch: 33 loss: 0.0897\n",
      "epoch: 34 loss: 0.0805\n",
      "epoch: 35 loss: 0.0731\n",
      "epoch: 36 loss: 0.0987\n",
      "epoch: 37 loss: 0.0792\n",
      "epoch: 38 loss: 0.0406\n",
      "epoch: 39 loss: 0.0851\n",
      "Accuracy: 0.7868\n",
      "epoch: 40 loss: 0.0566\n",
      "epoch: 41 loss: 0.0989\n",
      "epoch: 42 loss: 0.0597\n",
      "epoch: 43 loss: 0.1207\n",
      "epoch: 44 loss: 0.1047\n",
      "epoch: 45 loss: 0.1110\n",
      "epoch: 46 loss: 0.0624\n",
      "epoch: 47 loss: 0.0956\n",
      "epoch: 48 loss: 0.0779\n",
      "epoch: 49 loss: 0.0760\n",
      "Accuracy: 0.7877\n",
      "epoch: 50 loss: 0.0818\n",
      "epoch: 51 loss: 0.0650\n",
      "epoch: 52 loss: 0.0653\n",
      "epoch: 53 loss: 0.0430\n",
      "epoch: 54 loss: 0.0653\n",
      "epoch: 55 loss: 0.0975\n",
      "epoch: 56 loss: 0.0315\n",
      "epoch: 57 loss: 0.0588\n",
      "epoch: 58 loss: 0.1035\n",
      "epoch: 59 loss: 0.0714\n",
      "Accuracy: 0.7906\n",
      "epoch: 60 loss: 0.0788\n",
      "epoch: 61 loss: 0.0731\n",
      "epoch: 62 loss: 0.0659\n",
      "epoch: 63 loss: 0.0756\n",
      "epoch: 64 loss: 0.0792\n",
      "epoch: 65 loss: 0.0670\n",
      "epoch: 66 loss: 0.1035\n",
      "epoch: 67 loss: 0.0510\n",
      "epoch: 68 loss: 0.1281\n",
      "epoch: 69 loss: 0.0925\n",
      "Accuracy: 0.7848\n",
      "epoch: 70 loss: 0.0855\n",
      "epoch: 71 loss: 0.0874\n",
      "epoch: 72 loss: 0.1208\n",
      "epoch: 73 loss: 0.1177\n",
      "epoch: 74 loss: 0.1170\n",
      "epoch: 75 loss: 0.0858\n",
      "epoch: 76 loss: 0.0388\n",
      "epoch: 77 loss: 0.0359\n",
      "epoch: 78 loss: 0.0725\n",
      "epoch: 79 loss: 0.0823\n",
      "Accuracy: 0.7921\n",
      "epoch: 80 loss: 0.0803\n",
      "epoch: 81 loss: 0.0775\n",
      "epoch: 82 loss: 0.0819\n",
      "epoch: 83 loss: 0.0526\n",
      "epoch: 84 loss: 0.0815\n",
      "epoch: 85 loss: 0.0786\n",
      "epoch: 86 loss: 0.0786\n",
      "epoch: 87 loss: 0.0772\n",
      "epoch: 88 loss: 0.0841\n",
      "epoch: 89 loss: 0.0438\n",
      "Accuracy: 0.7897\n",
      "epoch: 90 loss: 0.1000\n",
      "epoch: 91 loss: 0.0433\n",
      "epoch: 92 loss: 0.1078\n",
      "epoch: 93 loss: 0.1115\n",
      "epoch: 94 loss: 0.0722\n",
      "epoch: 95 loss: 0.0857\n",
      "epoch: 96 loss: 0.1334\n",
      "epoch: 97 loss: 0.0393\n",
      "epoch: 98 loss: 0.0847\n",
      "epoch: 99 loss: 0.0505\n",
      "Accuracy: 0.7916\n",
      "epoch: 100 loss: 0.0646\n",
      "epoch: 101 loss: 0.0796\n",
      "epoch: 102 loss: 0.0653\n",
      "epoch: 103 loss: 0.1126\n",
      "epoch: 104 loss: 0.0768\n",
      "epoch: 105 loss: 0.0839\n",
      "epoch: 106 loss: 0.0528\n",
      "epoch: 107 loss: 0.0939\n",
      "epoch: 108 loss: 0.0228\n",
      "epoch: 109 loss: 0.0625\n",
      "Accuracy: 0.7921\n",
      "epoch: 110 loss: 0.0782\n",
      "epoch: 111 loss: 0.0489\n",
      "epoch: 112 loss: 0.0677\n",
      "epoch: 113 loss: 0.0761\n",
      "epoch: 114 loss: 0.0989\n",
      "epoch: 115 loss: 0.0813\n",
      "epoch: 116 loss: 0.0319\n",
      "epoch: 117 loss: 0.0807\n",
      "epoch: 118 loss: 0.0902\n",
      "epoch: 119 loss: 0.0830\n",
      "Accuracy: 0.7901\n",
      "epoch: 120 loss: 0.1329\n",
      "epoch: 121 loss: 0.0876\n",
      "epoch: 122 loss: 0.0375\n",
      "epoch: 123 loss: 0.0891\n",
      "epoch: 124 loss: 0.0787\n",
      "epoch: 125 loss: 0.1059\n",
      "epoch: 126 loss: 0.0705\n",
      "epoch: 127 loss: 0.0902\n",
      "epoch: 128 loss: 0.0394\n",
      "epoch: 129 loss: 0.0575\n",
      "Accuracy: 0.7887\n",
      "epoch: 130 loss: 0.0601\n",
      "epoch: 131 loss: 0.0778\n",
      "epoch: 132 loss: 0.0794\n",
      "epoch: 133 loss: 0.0982\n",
      "epoch: 134 loss: 0.0658\n",
      "epoch: 135 loss: 0.0564\n",
      "epoch: 136 loss: 0.0798\n",
      "epoch: 137 loss: 0.0540\n",
      "epoch: 138 loss: 0.0686\n",
      "epoch: 139 loss: 0.0666\n",
      "Accuracy: 0.7930\n",
      "epoch: 140 loss: 0.0699\n",
      "epoch: 141 loss: 0.0488\n",
      "epoch: 142 loss: 0.0592\n",
      "epoch: 143 loss: 0.1108\n",
      "epoch: 144 loss: 0.0752\n",
      "epoch: 145 loss: 0.0482\n",
      "epoch: 146 loss: 0.0482\n",
      "epoch: 147 loss: 0.0411\n",
      "epoch: 148 loss: 0.0314\n",
      "epoch: 149 loss: 0.0345\n",
      "Accuracy: 0.7906\n",
      "epoch: 150 loss: 0.0773\n",
      "epoch: 151 loss: 0.0753\n",
      "epoch: 152 loss: 0.1051\n",
      "epoch: 153 loss: 0.0739\n",
      "epoch: 154 loss: 0.0796\n",
      "epoch: 155 loss: 0.0908\n",
      "epoch: 156 loss: 0.0395\n",
      "epoch: 157 loss: 0.0555\n",
      "epoch: 158 loss: 0.0484\n",
      "epoch: 159 loss: 0.0858\n",
      "Accuracy: 0.7945\n",
      "epoch: 160 loss: 0.0622\n",
      "epoch: 161 loss: 0.0503\n",
      "epoch: 162 loss: 0.0320\n",
      "epoch: 163 loss: 0.0826\n",
      "epoch: 164 loss: 0.0744\n",
      "epoch: 165 loss: 0.0703\n",
      "epoch: 166 loss: 0.0932\n",
      "epoch: 167 loss: 0.0548\n",
      "epoch: 168 loss: 0.1067\n",
      "epoch: 169 loss: 0.0620\n",
      "Accuracy: 0.7882\n",
      "epoch: 170 loss: 0.0698\n",
      "epoch: 171 loss: 0.0789\n",
      "epoch: 172 loss: 0.0549\n",
      "epoch: 173 loss: 0.0491\n",
      "epoch: 174 loss: 0.0244\n",
      "epoch: 175 loss: 0.0301\n",
      "epoch: 176 loss: 0.0775\n",
      "epoch: 177 loss: 0.0495\n",
      "epoch: 178 loss: 0.0589\n",
      "epoch: 179 loss: 0.0676\n",
      "Accuracy: 0.8017\n",
      "epoch: 180 loss: 0.0763\n",
      "epoch: 181 loss: 0.1536\n",
      "epoch: 182 loss: 0.0403\n",
      "epoch: 183 loss: 0.0405\n",
      "epoch: 184 loss: 0.1089\n",
      "epoch: 185 loss: 0.0428\n",
      "epoch: 186 loss: 0.1086\n",
      "epoch: 187 loss: 0.0532\n",
      "epoch: 188 loss: 0.0854\n",
      "epoch: 189 loss: 0.1013\n",
      "Accuracy: 0.7998\n",
      "epoch: 190 loss: 0.0831\n",
      "epoch: 191 loss: 0.0432\n",
      "epoch: 192 loss: 0.0610\n",
      "epoch: 193 loss: 0.0268\n",
      "epoch: 194 loss: 0.0535\n",
      "epoch: 195 loss: 0.0684\n",
      "epoch: 196 loss: 0.0914\n",
      "epoch: 197 loss: 0.0518\n",
      "epoch: 198 loss: 0.0660\n",
      "epoch: 199 loss: 0.0792\n",
      "Accuracy: 0.7882\n"
     ]
    }
   ],
   "source": [
    "model = GATNet(features.shape[1], len(label_to_index)).to(device)\n",
    "# model = GCNNet(features.shape[1], len(label_to_index)).to(device)\n",
    "\n",
    "optimizer = torch.optim.Adam(model.parameters(), lr=0.01, weight_decay=5e-4)\n",
    "\n",
    "for epoch in range(200):\n",
    "    optimizer.zero_grad()\n",
    "    out = model(cora)\n",
    "    loss = F.nll_loss(out[train_mask], cora.y[train_mask])\n",
    "    print('epoch: %d loss: %.4f' %(epoch, loss))\n",
    "    loss.backward()\n",
    "    optimizer.step()\n",
    "    \n",
    "    if((epoch + 1)% 10 == 0):\n",
    "        model.eval()\n",
    "        _, pred = model(cora).max(dim=1)\n",
    "        correct = int(pred[test_mask].eq(cora.y[test_mask]).sum().item())\n",
    "        acc = correct / len(test_mask)\n",
    "        print('Accuracy: {:.4f}'.format(acc))\n",
    "        model.train()\n"
   ]
  },
  {
   "cell_type": "code",
   "execution_count": 10,
   "id": "07c9c381",
   "metadata": {},
   "outputs": [
    {
     "data": {
      "text/plain": [
       "tensor([ True,  True,  True,  ...,  True, False, False])"
      ]
     },
     "execution_count": 10,
     "metadata": {},
     "output_type": "execute_result"
    }
   ],
   "source": [
    "pred[test_mask].eq(cora.y[test_mask])"
   ]
  },
  {
   "attachments": {},
   "cell_type": "markdown",
   "id": "ff1965b4",
   "metadata": {},
   "source": [
    "# P R "
   ]
  },
  {
   "cell_type": "code",
   "execution_count": 11,
   "id": "b8083123",
   "metadata": {},
   "outputs": [
    {
     "data": {
      "text/plain": [
       "(tensor([2, 3, 2,  ..., 6, 2, 0]),)"
      ]
     },
     "execution_count": 11,
     "metadata": {},
     "output_type": "execute_result"
    }
   ],
   "source": [
    "pred[test_mask],"
   ]
  },
  {
   "cell_type": "code",
   "execution_count": 12,
   "id": "a90ea77b",
   "metadata": {},
   "outputs": [
    {
     "data": {
      "text/plain": [
       "tensor([2, 3, 2,  ..., 6, 0, 3])"
      ]
     },
     "execution_count": 12,
     "metadata": {},
     "output_type": "execute_result"
    }
   ],
   "source": [
    "cora.y[test_mask]"
   ]
  },
  {
   "cell_type": "code",
   "execution_count": null,
   "id": "352388e4",
   "metadata": {},
   "outputs": [],
   "source": [
    "\n",
    "\n"
   ]
  },
  {
   "cell_type": "code",
   "execution_count": 13,
   "id": "334b2c5a",
   "metadata": {},
   "outputs": [
    {
     "name": "stdout",
     "output_type": "stream",
     "text": [
      "              precision    recall  f1-score   support\n",
      "\n",
      "           0     0.8750    0.8038    0.8379       688\n",
      "           1     0.3869    0.9464    0.5492        56\n",
      "           2     0.8107    0.7919    0.8012       173\n",
      "           3     0.6334    0.9249    0.7519       213\n",
      "           4     0.8566    0.5689    0.6837       399\n",
      "           5     0.9216    0.9216    0.9216       319\n",
      "           6     0.7191    0.7682    0.7429       220\n",
      "\n",
      "    accuracy                         0.7882      2068\n",
      "   macro avg     0.7433    0.8180    0.7555      2068\n",
      "weighted avg     0.8186    0.7882    0.7912      2068\n",
      "\n",
      "0.7882011605415861\n",
      "0.7554859642937364\n"
     ]
    }
   ],
   "source": [
    "# from calendar import c\n",
    "\n",
    "\n",
    "A  = pred[test_mask].numpy()\n",
    "type(A)\n",
    "B = cora.y[test_mask].numpy()\n",
    "\n",
    "from sklearn.metrics import classification_report\n",
    "from sklearn.metrics import f1_score\n",
    "\n",
    "print(classification_report(y_true = A,y_pred = B,digits=4))\n",
    "\n",
    "print(f1_score(y_true=A,y_pred=B, average=\"micro\"))\n",
    "\n",
    "print(f1_score(y_true=A,y_pred=B,average=\"macro\"))\n"
   ]
  },
  {
   "attachments": {},
   "cell_type": "markdown",
   "id": "4eb0bc7c",
   "metadata": {},
   "source": [
    "## GAT2层 GAT——BiLSTM模型\n",
    "![](2022-10-03-11-05-26.png)"
   ]
  },
  {
   "cell_type": "code",
   "execution_count": 14,
   "id": "8d5a591b",
   "metadata": {
    "ExecuteTime": {
     "end_time": "2021-12-16T12:27:54.554864Z",
     "start_time": "2021-12-16T12:27:50.887435Z"
    }
   },
   "outputs": [
    {
     "data": {
      "image/png": "[encoded data removed]",
      "text/plain": [
       "<Figure size 576x432 with 1 Axes>"
      ]
     },
     "metadata": {
      "needs_background": "light"
     },
     "output_type": "display_data"
    }
   ],
   "source": [
    "from sklearn.manifold import TSNE\n",
    "\n",
    "import matplotlib.pyplot as plt\n",
    "\n",
    "import matplotlib\n",
    "\n",
    "\n",
    "ts = TSNE(n_components=2)\n",
    "ts.fit_transform(out[test_mask].to('cpu').detach().numpy())\n",
    "\n",
    "x = ts.embedding_\n",
    "y = cora.y[test_mask].to('cpu').detach().numpy()\n",
    "\n",
    "xi = []\n",
    "for i in range(7):\n",
    "    xi.append(x[np.where(y==i)])\n",
    "\n",
    "colors = ['mediumblue','green','red','yellow','cyan','mediumvioletred','mediumspringgreen']\n",
    "plt.figure(figsize=(8, 6))\n",
    "# plt.title('GAT_2_layer') \n",
    "for i in range(7):\n",
    "    plt.scatter(xi[i][:,0],xi[i][:,1],s=30,color=colors[i],marker='o',alpha=1)\n",
    "plt.savefig('./GAT_2_layer_(5678).png',dpi=300)"
   ]
  },
  {
   "cell_type": "code",
   "execution_count": 15,
   "id": "7ac6cf9e",
   "metadata": {},
   "outputs": [
    {
     "data": {
      "text/plain": [
       "torch.Size([2068, 7])"
      ]
     },
     "execution_count": 15,
     "metadata": {},
     "output_type": "execute_result"
    }
   ],
   "source": [
    "out[test_mask].shape"
   ]
  },
  {
   "cell_type": "code",
   "execution_count": 16,
   "id": "1e0c223e",
   "metadata": {},
   "outputs": [
    {
     "data": {
      "text/plain": [
       "torch.Size([7])"
      ]
     },
     "execution_count": 16,
     "metadata": {},
     "output_type": "execute_result"
    }
   ],
   "source": [
    "out[test_mask][1].shape"
   ]
  },
  {
   "cell_type": "code",
   "execution_count": 17,
   "id": "dc495c50",
   "metadata": {},
   "outputs": [
    {
     "data": {
      "text/plain": [
       "tensor([-4.2891, -4.9872, -5.4152, -0.0645, -4.2653, -3.9709, -5.3977],\n",
       "       grad_fn=<SelectBackward>)"
      ]
     },
     "execution_count": 17,
     "metadata": {},
     "output_type": "execute_result"
    }
   ],
   "source": [
    "out[test_mask][1]"
   ]
  },
  {
   "cell_type": "code",
   "execution_count": 18,
   "id": "e5e767a6",
   "metadata": {},
   "outputs": [
    {
     "data": {
      "text/plain": [
       "tensor([[-1.0707e+01, -1.1624e+01, -6.9165e-04,  ..., -8.3070e+00,\n",
       "         -1.3295e+01, -7.7994e+00],\n",
       "        [-4.2891e+00, -4.9872e+00, -5.4152e+00,  ..., -4.2653e+00,\n",
       "         -3.9709e+00, -5.3977e+00],\n",
       "        [-4.8098e+00, -6.0903e+00, -3.1213e-02,  ..., -4.1437e+00,\n",
       "         -6.9009e+00, -5.9485e+00],\n",
       "        ...,\n",
       "        [-1.2877e+01, -1.4472e+01, -9.6128e+00,  ..., -1.0799e+01,\n",
       "         -1.4854e+01, -9.1072e-05],\n",
       "        [-1.0247e+00, -3.6571e+00, -8.8511e-01,  ..., -3.5568e+00,\n",
       "         -5.0946e+00, -1.7979e+00],\n",
       "        [-1.8146e+00, -1.0184e+01, -9.5751e+00,  ..., -1.0921e+01,\n",
       "         -9.7935e+00, -8.9027e+00]], grad_fn=<IndexBackward>)"
      ]
     },
     "execution_count": 18,
     "metadata": {},
     "output_type": "execute_result"
    }
   ],
   "source": [
    "out[test_mask]"
   ]
  },
  {
   "cell_type": "code",
   "execution_count": 19,
   "id": "a89ca491",
   "metadata": {},
   "outputs": [
    {
     "data": {
      "text/plain": [
       "array([[ 23.614843, -47.376797],\n",
       "       [ -3.396601,  32.076233],\n",
       "       [ 22.343613, -33.608395],\n",
       "       ...,\n",
       "       [ 47.886562, -24.556023],\n",
       "       [ 13.726906,  -8.284261],\n",
       "       [-15.27283 ,  42.710846]], dtype=float32)"
      ]
     },
     "execution_count": 19,
     "metadata": {},
     "output_type": "execute_result"
    }
   ],
   "source": [
    "x"
   ]
  },
  {
   "cell_type": "code",
   "execution_count": null,
   "id": "53a1df57",
   "metadata": {},
   "outputs": [],
   "source": []
  },
  {
   "cell_type": "code",
   "execution_count": 37,
   "id": "2147d22f",
   "metadata": {},
   "outputs": [
    {
     "name": "stderr",
     "output_type": "stream",
     "text": [
      "/Users/lianghuaxiong/anaconda3/envs/gcn_pytorch/lib/python3.7/site-packages/ipykernel_launcher.py:11: RuntimeWarning: overflow encountered in power\n",
      "  # This is added back by InteractiveShellApp.init_path()\n",
      "/Users/lianghuaxiong/anaconda3/envs/gcn_pytorch/lib/python3.7/site-packages/ipykernel_launcher.py:23: RuntimeWarning: overflow encountered in multiply\n",
      "/Users/lianghuaxiong/anaconda3/envs/gcn_pytorch/lib/python3.7/site-packages/scipy/optimize/minpack.py:834: OptimizeWarning: Covariance of the parameters could not be estimated\n",
      "  category=OptimizeWarning)\n"
     ]
    },
    {
     "data": {
      "image/png": "[encoded data removed]",
      "text/plain": [
       "<Figure size 432x288 with 1 Axes>"
      ]
     },
     "metadata": {
      "needs_background": "light"
     },
     "output_type": "display_data"
    }
   ],
   "source": [
    "import matplotlib.pyplot as plt\n",
    "import numpy as np\n",
    "from scipy.special import erf\n",
    "from scipy.optimize import minimize,leastsq, curve_fit\n",
    "\n",
    "e = np.e\n",
    "\n",
    "\n",
    "def gauss(x):\n",
    "    # return np.exp( -0.5 * x**2 / np.sqrt( 2 * np.pi ) )\n",
    "    return (e**x + e**(-x)) /2\n",
    "\n",
    "\n",
    "def Phi(x):\n",
    "    return ( 0.5 * ( 1. + erf(x/np.sqrt(2) ) ) )\n",
    "\n",
    "\n",
    "def skewed(x, x0, s, a):\n",
    "    return 2./s * gauss( ( x - x0 ) / s ) * Phi( a * ( x - x0 ) / s)\n",
    "\n",
    "\n",
    "def my_double_peak(x, A0, x0, s0, a, A1, x1, s1):\n",
    "    return A0 * skewed( x, x0, s0, a ) + A1 / s1 * gauss( ( x - x1 ) / s1 )\n",
    "\n",
    "data = np.loadtxt(\"051501.csv\", skiprows=1, delimiter=',')\n",
    "xData = range(len(data))\n",
    "\n",
    "fitResult, ier = curve_fit( my_double_peak, xData, data[:,1], p0=(45e3, 400., 60,4. ,15e3, 700., 30 )  ) \n",
    "\n",
    "bestFit = [my_double_peak(x, *fitResult ) for x in range(len(data)) ]\n",
    "\n",
    "\n",
    "fig1=plt.figure(1)\n",
    "ax= fig1.add_subplot( 1, 1, 1 )\n",
    "ax.plot( data[:,1] )\n",
    "ax.plot( bestFit )\n",
    "\n",
    "plt.show()"
   ]
  },
  {
   "cell_type": "code",
   "execution_count": null,
   "id": "ef9d4b6b",
   "metadata": {},
   "outputs": [],
   "source": []
  },
  {
   "cell_type": "code",
   "execution_count": 2,
   "id": "2d0b63d8",
   "metadata": {},
   "outputs": [],
   "source": [
    "import numpy as np\n",
    "import matplotlib.pyplot as plt\n",
    "from scipy.optimize import curve_fit\n",
    "import pandas as pd\n",
    "\n",
    "\n",
    "\n",
    "e = np.e\n",
    "\n",
    "def gauss(x,mu,sigma,A):\n",
    "    # return A*np.exp(-(x-mu)**2/2/sigma**2)\n",
    "    return (e**x + e**(-x)) /2\n",
    "\n",
    "def bimodal(x,mu1,sigma1,A1,mu2,sigma2,A2):\n",
    "    return gauss(x,mu1,sigma1,A1)+gauss(x,mu2,sigma2,A2)\n",
    "\n",
    "def rmse(p0):\n",
    "    mu1,sigma1,A1,mu2,sigma2,A2 =p0\n",
    "    y_sim = bimodal(x,mu1,sigma1,A1,mu2,sigma2,A2)\n",
    "    rms = np.sqrt((y-y_sim)**2/len(y))\n",
    "\n",
    "data = pd.read_csv('051501.csv')\n",
    "# x, y = data.index, data['24hr'].values\n",
    "\n",
    "# expected=(400,720,500,700,774,150)\n",
    "\n",
    "# params,cov=curve_fit(bimodal,x,y,expected, maxfev=100000)\n",
    "# sigma=np.sqrt(np.diag(cov))\n",
    "# plt.plot(x,bimodal(x,*params),color='red',lw=3,label='model')\n",
    "# plt.plot(x,y,label='data')\n",
    "# plt.legend()\n",
    "# print(params,'\\n',sigma)"
   ]
  },
  {
   "cell_type": "code",
   "execution_count": 3,
   "id": "40352e39",
   "metadata": {},
   "outputs": [
    {
     "data": {
      "text/plain": [
       "4788"
      ]
     },
     "execution_count": 3,
     "metadata": {},
     "output_type": "execute_result"
    }
   ],
   "source": [
    "data = pd.read_csv('051501.csv')\n",
    "len(data)"
   ]
  },
  {
   "cell_type": "code",
   "execution_count": 7,
   "id": "a40f1157",
   "metadata": {},
   "outputs": [
    {
     "name": "stdout",
     "output_type": "stream",
     "text": [
      "[4. 2. 5. 7. 7. 1.] \n",
      " [inf inf inf inf inf inf]\n"
     ]
    },
    {
     "name": "stderr",
     "output_type": "stream",
     "text": [
      "/Users/lianghuaxiong/anaconda3/envs/gcn_pytorch/lib/python3.7/site-packages/scipy/optimize/minpack.py:792: RuntimeWarning: overflow encountered in square\n",
      "  cost = np.sum(infodict['fvec'] ** 2)\n",
      "/Users/lianghuaxiong/anaconda3/envs/gcn_pytorch/lib/python3.7/site-packages/scipy/optimize/minpack.py:834: OptimizeWarning: Covariance of the parameters could not be estimated\n",
      "  category=OptimizeWarning)\n",
      "/Users/lianghuaxiong/anaconda3/envs/gcn_pytorch/lib/python3.7/site-packages/matplotlib/ticker.py:2222: RuntimeWarning: overflow encountered in multiply\n",
      "  steps = self._extended_steps * scale\n"
     ]
    },
    {
     "data": {
      "image/png": "[encoded data removed]",
      "text/plain": [
       "<Figure size 432x288 with 1 Axes>"
      ]
     },
     "metadata": {
      "needs_background": "light"
     },
     "output_type": "display_data"
    }
   ],
   "source": [
    "data.columns = ['a','b']\n",
    "x, y = data.index, data['b'].values\n",
    "\n",
    "expected=(4,2,5,7,7,1)\n",
    "\n",
    "params,cov=curve_fit(bimodal,x,y,expected, maxfev=100000)\n",
    "sigma=np.sqrt(np.diag(cov))\n",
    "plt.plot(x,bimodal(x,*params),color='red',lw=3,label='model')\n",
    "plt.plot(x,y,label='data')\n",
    "plt.legend()\n",
    "print(params,'\\n',sigma)"
   ]
  },
  {
   "cell_type": "code",
   "execution_count": null,
   "id": "861ff5ec",
   "metadata": {},
   "outputs": [],
   "source": []
  },
  {
   "cell_type": "code",
   "execution_count": 1,
   "id": "96c8276f",
   "metadata": {},
   "outputs": [
    {
     "ename": "KeyboardInterrupt",
     "evalue": "",
     "output_type": "error",
     "traceback": [
      "\u001b[0;31m---------------------------------------------------------------------------\u001b[0m",
      "\u001b[0;31mKeyboardInterrupt\u001b[0m                         Traceback (most recent call last)",
      "\u001b[0;32m<ipython-input-1-2ade3e2cf32f>\u001b[0m in \u001b[0;36m<module>\u001b[0;34m\u001b[0m\n\u001b[1;32m     20\u001b[0m     \u001b[0;32mreturn\u001b[0m \u001b[0mA0\u001b[0m \u001b[0;34m*\u001b[0m \u001b[0mskewed\u001b[0m\u001b[0;34m(\u001b[0m \u001b[0mx\u001b[0m\u001b[0;34m,\u001b[0m \u001b[0mx0\u001b[0m\u001b[0;34m,\u001b[0m \u001b[0ms0\u001b[0m\u001b[0;34m,\u001b[0m \u001b[0ma\u001b[0m \u001b[0;34m)\u001b[0m \u001b[0;34m+\u001b[0m \u001b[0mA1\u001b[0m \u001b[0;34m/\u001b[0m \u001b[0ms1\u001b[0m \u001b[0;34m*\u001b[0m \u001b[0mgauss\u001b[0m\u001b[0;34m(\u001b[0m \u001b[0;34m(\u001b[0m \u001b[0mx\u001b[0m \u001b[0;34m-\u001b[0m \u001b[0mx1\u001b[0m \u001b[0;34m)\u001b[0m \u001b[0;34m/\u001b[0m \u001b[0ms1\u001b[0m \u001b[0;34m)\u001b[0m\u001b[0;34m\u001b[0m\u001b[0m\n\u001b[1;32m     21\u001b[0m \u001b[0;34m\u001b[0m\u001b[0m\n\u001b[0;32m---> 22\u001b[0;31m \u001b[0mdata\u001b[0m \u001b[0;34m=\u001b[0m \u001b[0mnp\u001b[0m\u001b[0;34m.\u001b[0m\u001b[0mloadtxt\u001b[0m\u001b[0;34m(\u001b[0m\u001b[0;34m\"5.csv\"\u001b[0m\u001b[0;34m,\u001b[0m \u001b[0mskiprows\u001b[0m\u001b[0;34m=\u001b[0m\u001b[0;36m1\u001b[0m\u001b[0;34m,\u001b[0m \u001b[0mdelimiter\u001b[0m\u001b[0;34m=\u001b[0m\u001b[0;34m','\u001b[0m\u001b[0;34m)\u001b[0m\u001b[0;34m\u001b[0m\u001b[0m\n\u001b[0m\u001b[1;32m     23\u001b[0m \u001b[0mxData\u001b[0m \u001b[0;34m=\u001b[0m \u001b[0mrange\u001b[0m\u001b[0;34m(\u001b[0m\u001b[0mlen\u001b[0m\u001b[0;34m(\u001b[0m\u001b[0mdata\u001b[0m\u001b[0;34m)\u001b[0m\u001b[0;34m)\u001b[0m\u001b[0;34m\u001b[0m\u001b[0m\n\u001b[1;32m     24\u001b[0m \u001b[0;34m\u001b[0m\u001b[0m\n",
      "\u001b[0;32m~/anaconda3/envs/gcn_pytorch/lib/python3.7/site-packages/numpy/lib/npyio.py\u001b[0m in \u001b[0;36mloadtxt\u001b[0;34m(fname, dtype, comments, delimiter, converters, skiprows, usecols, unpack, ndmin, encoding, max_rows, like)\u001b[0m\n\u001b[1;32m   1154\u001b[0m                 \u001b[0mnshape\u001b[0m\u001b[0;34m[\u001b[0m\u001b[0;36m0\u001b[0m\u001b[0;34m]\u001b[0m \u001b[0;34m+=\u001b[0m \u001b[0mlen\u001b[0m\u001b[0;34m(\u001b[0m\u001b[0mx\u001b[0m\u001b[0;34m)\u001b[0m\u001b[0;34m\u001b[0m\u001b[0m\n\u001b[1;32m   1155\u001b[0m                 \u001b[0mX\u001b[0m\u001b[0;34m.\u001b[0m\u001b[0mresize\u001b[0m\u001b[0;34m(\u001b[0m\u001b[0mnshape\u001b[0m\u001b[0;34m,\u001b[0m \u001b[0mrefcheck\u001b[0m\u001b[0;34m=\u001b[0m\u001b[0;32mFalse\u001b[0m\u001b[0;34m)\u001b[0m\u001b[0;34m\u001b[0m\u001b[0m\n\u001b[0;32m-> 1156\u001b[0;31m                 \u001b[0mX\u001b[0m\u001b[0;34m[\u001b[0m\u001b[0mpos\u001b[0m\u001b[0;34m:\u001b[0m\u001b[0;34m,\u001b[0m \u001b[0;34m...\u001b[0m\u001b[0;34m]\u001b[0m \u001b[0;34m=\u001b[0m \u001b[0mx\u001b[0m\u001b[0;34m\u001b[0m\u001b[0m\n\u001b[0m\u001b[1;32m   1157\u001b[0m     \u001b[0;32mfinally\u001b[0m\u001b[0;34m:\u001b[0m\u001b[0;34m\u001b[0m\u001b[0m\n\u001b[1;32m   1158\u001b[0m         \u001b[0;32mif\u001b[0m \u001b[0mfown\u001b[0m\u001b[0;34m:\u001b[0m\u001b[0;34m\u001b[0m\u001b[0m\n",
      "\u001b[0;31mKeyboardInterrupt\u001b[0m: "
     ]
    }
   ],
   "source": [
    "import matplotlib.pyplot as plt\n",
    "import numpy as np\n",
    "from scipy.special import erf\n",
    "from scipy.optimize import minimize,leastsq, curve_fit\n",
    "\n",
    "\n",
    "def gauss(x):\n",
    "    return np.exp( -0.5 * x**2 / np.sqrt( 2 * np.pi ) )\n",
    "\n",
    "\n",
    "def Phi(x):\n",
    "    return ( 0.5 * ( 1. + erf(x/np.sqrt(2) ) ) )\n",
    "\n",
    "\n",
    "def skewed(x, x0, s, a):\n",
    "    return 2./s * gauss( ( x - x0 ) / s ) * Phi( a * ( x - x0 ) / s)\n",
    "\n",
    "\n",
    "def my_double_peak(x, A0, x0, s0, a, A1, x1, s1):\n",
    "    return A0 * skewed( x, x0, s0, a ) + A1 / s1 * gauss( ( x - x1 ) / s1 )\n",
    "\n",
    "data = np.loadtxt(\"5.csv\", skiprows=1, delimiter=',')\n",
    "xData = range(len(data))\n",
    "\n",
    "fitResult, ier = curve_fit( my_double_peak, xData, data[:,1], p0=(45e3, 400., 60,4. ,15e3, 700., 30 ) ,bounds=(0, [80, 24., 0.2]) ) \n",
    "\n",
    "# popt, pcov = curve_fit(funl, x, y,bounds=(0, [80, 24., 0.2]))\n",
    "\n",
    "bestFit = [my_double_peak(x, *fitResult ) for x in range(len(data)) ]\n",
    "\n",
    "\n",
    "fig1=plt.figure(1)\n",
    "ax= fig1.add_subplot( 1, 1, 1 )\n",
    "ax.plot( data[:,1] )\n",
    "ax.plot( bestFit )\n",
    "\n",
    "plt.show()"
   ]
  },
  {
   "cell_type": "code",
   "execution_count": null,
   "id": "7507da79",
   "metadata": {},
   "outputs": [],
   "source": []
  }
 ],
 "metadata": {
  "kernelspec": {
   "display_name": "Python 3.7.0 ('gcn_pytorch')",
   "language": "python",
   "name": "python3"
  },
  "language_info": {
   "codemirror_mode": {
    "name": "ipython",
    "version": 3
   },
   "file_extension": ".py",
   "mimetype": "text/x-python",
   "name": "python",
   "nbconvert_exporter": "python",
   "pygments_lexer": "ipython3",
   "version": "3.7.0"
  },
  "toc": {
   "base_numbering": 1,
   "nav_menu": {},
   "number_sections": true,
   "sideBar": true,
   "skip_h1_title": false,
   "title_cell": "Table of Contents",
   "title_sidebar": "Contents",
   "toc_cell": false,
   "toc_position": {},
   "toc_section_display": true,
   "toc_window_display": false
  },
  "varInspector": {
   "cols": {
    "lenName": 16,
    "lenType": 16,
    "lenVar": 40
   },
   "kernels_config": {
    "python": {
     "delete_cmd_postfix": "",
     "delete_cmd_prefix": "del ",
     "library": "var_list.py",
     "varRefreshCmd": "print(var_dic_list())"
    },
    "r": {
     "delete_cmd_postfix": ") ",
     "delete_cmd_prefix": "rm(",
     "library": "var_list.r",
     "varRefreshCmd": "cat(var_dic_list()) "
    }
   },
   "types_to_exclude": [
    "module",
    "function",
    "builtin_function_or_method",
    "instance",
    "_Feature"
   ],
   "window_display": false
  },
  "vscode": {
   "interpreter": {
    "hash": "1d3a39f4b557d3efe1e24f37196ad42623af4fe05dd76289d4bf6459bfc16140"
   }
  }
 },
 "nbformat": 4,
 "nbformat_minor": 5
}
