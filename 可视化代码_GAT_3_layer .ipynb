{
 "cells": [
  {
   "cell_type": "code",
   "execution_count": 1,
   "id": "d0f18cba",
   "metadata": {
    "ExecuteTime": {
     "end_time": "2021-12-16T12:27:38.215495Z",
     "start_time": "2021-12-16T12:27:37.229374Z"
    }
   },
   "outputs": [],
   "source": [
    "import torch\n",
    "\n",
    "path = \"cora/\"\n",
    "cites = path + \"cora.cites\"\n",
    "content = path + \"cora.content\"\n",
    "\n",
    "# 索引字典，将原本的论文id转换到从0开始编码\n",
    "index_dict = dict()\n",
    "# 标签字典，将字符串标签转化为数值\n",
    "label_to_index = dict()\n",
    "\n",
    "features = []\n",
    "labels = []\n",
    "edge_index = []\n",
    "\n",
    "with open(content,\"r\") as f:\n",
    "    nodes = f.readlines()\n",
    "    for node in nodes:\n",
    "        node_info = node.split()\n",
    "        index_dict[int(node_info[0])] = len(index_dict)\n",
    "        features.append([int(i) for i in node_info[1:-1]])\n",
    "        \n",
    "        label_str = node_info[-1]\n",
    "        if(label_str not in label_to_index.keys()):\n",
    "            label_to_index[label_str] = len(label_to_index)\n",
    "        labels.append(label_to_index[label_str])\n",
    "\n",
    "with open(cites,\"r\") as f:\n",
    "    edges = f.readlines()\n",
    "    for edge in edges:\n",
    "        start, end = edge.split()\n",
    "        # 训练时将边视为无向的，但原本的边是有向的，因此需要正反添加两次\n",
    "        edge_index.append([index_dict[int(start)],index_dict[int(end)]])\n",
    "        edge_index.append([index_dict[int(end)],index_dict[int(start)]])\n",
    "\n",
    "# 为每个节点增加自环，但后续GCN层默认会添加自环，跳过即可\n",
    "# for i in range(2708):\n",
    "#     edge_index.append([i,i])\n",
    "  \n",
    "# 转换为Tensor\n",
    "labels = torch.LongTensor(labels)\n",
    "features = torch.FloatTensor(features)\n",
    "# 行归一化\n",
    "# features = torch.nn.functional.normalize(features, p=1, dim=1)\n",
    "edge_index =  torch.LongTensor(edge_index)\n",
    "\n"
   ]
  },
  {
   "cell_type": "code",
   "execution_count": 2,
   "id": "fe3e52c3",
   "metadata": {
    "ExecuteTime": {
     "end_time": "2021-12-16T12:27:38.293774Z",
     "start_time": "2021-12-16T12:27:38.290786Z"
    }
   },
   "outputs": [],
   "source": [
    "class GCNNet(torch.nn.Module):\n",
    "    def __init__(self, num_feature, num_label):\n",
    "        super(GCNNet,self).__init__()\n",
    "        self.GCN1 = GCNConv(num_feature, 16)\n",
    "        self.GCN2 = GCNConv(16, num_label)  \n",
    "        self.dropout = torch.nn.Dropout(p=0.5)\n",
    "        \n",
    "    def forward(self, data):\n",
    "        x, edge_index = data.x, data.edge_index\n",
    "        \n",
    "        x = self.GCN1(x, edge_index)\n",
    "        x = F.relu(x)\n",
    "        x = self.dropout(x)\n",
    "        x = self.GCN2(x, edge_index)\n",
    "        \n",
    "        return F.log_softmax(x, dim=1)\n"
   ]
  },
  {
   "cell_type": "code",
   "execution_count": 3,
   "id": "6d477c54",
   "metadata": {
    "ExecuteTime": {
     "end_time": "2021-12-16T12:27:38.369985Z",
     "start_time": "2021-12-16T12:27:38.367057Z"
    }
   },
   "outputs": [],
   "source": [
    "class GATNet(torch.nn.Module):\n",
    "    def __init__(self, num_feature, num_label):\n",
    "        super(GATNet,self).__init__()\n",
    "        self.GAT1 = GATConv(num_feature,6, heads = 6, concat = True, dropout = 0.01)\n",
    "#         self.GAT1 = GATConv(num_feature, 8, heads = 8, concat = True, dropout = 0.6)\n",
    "        self.GAT2 = GATConv(6*6, 4,heads=8, dropout = 0.01)   #8*8是上面的8*头数\n",
    "        self.GAT3 = GATConv(32,num_label,)\n",
    "         \n",
    "        \n",
    "    def forward(self, data):\n",
    "        x, edge_index = data.x, data.edge_index\n",
    "        \n",
    "        x = self.GAT1(x, edge_index)\n",
    "        x = F.relu(x)\n",
    "        # x = F.leaky_relu(x)\n",
    "        x = self.GAT2(x, edge_index)\n",
    "        \n",
    "        x = F.leaky_relu(x)\n",
    "        x = self.GAT3(x,edge_index)\n",
    "\n",
    "        return F.log_softmax(x, dim=1)\n"
   ]
  },
  {
   "cell_type": "code",
   "execution_count": 4,
   "id": "7ad82691",
   "metadata": {
    "ExecuteTime": {
     "end_time": "2021-12-16T12:27:38.451259Z",
     "start_time": "2021-12-16T12:27:38.446485Z"
    }
   },
   "outputs": [],
   "source": [
    "import numpy as np\n",
    "# seed = 1234\n",
    "seed = 5678\n",
    "torch.manual_seed(seed)\n",
    "torch.cuda.manual_seed(seed)\n",
    "torch.cuda.manual_seed_all(seed)  \n",
    "np.random.seed(seed)  # Numpy module.\n",
    "# random.seed(seed)  # Python random module.\n",
    "torch.manual_seed(seed)\n",
    "torch.backends.cudnn.benchmark = False\n",
    "torch.backends.cudnn.deterministic = True\n"
   ]
  },
  {
   "cell_type": "code",
   "execution_count": 5,
   "id": "334099f5",
   "metadata": {
    "ExecuteTime": {
     "end_time": "2021-12-16T12:27:38.817359Z",
     "start_time": "2021-12-16T12:27:38.522906Z"
    }
   },
   "outputs": [],
   "source": [
    "from torch_geometric.data import Data"
   ]
  },
  {
   "cell_type": "code",
   "execution_count": 6,
   "id": "cc97b430",
   "metadata": {
    "ExecuteTime": {
     "end_time": "2021-12-16T12:27:38.894164Z",
     "start_time": "2021-12-16T12:27:38.891268Z"
    }
   },
   "outputs": [],
   "source": [
    "mask = torch.randperm(len(index_dict))\n",
    "train_mask = mask[:140]\n",
    "val_mask = mask[140:640]\n",
    "test_mask = mask[640:2708]\n",
    "\n",
    "device = torch.device('cuda:0' if torch.cuda.is_available() else 'cpu')\n",
    "\n",
    "cora = Data(x = features, edge_index = edge_index.t().contiguous(), y = labels).to(device)\n"
   ]
  },
  {
   "cell_type": "code",
   "execution_count": 7,
   "id": "123ebe87",
   "metadata": {
    "ExecuteTime": {
     "end_time": "2021-12-16T12:27:39.275183Z",
     "start_time": "2021-12-16T12:27:38.983121Z"
    }
   },
   "outputs": [],
   "source": [
    "import torch.nn.functional as F\n",
    "from torch_geometric.nn import GCNConv,GATConv,SAGEConv\n",
    "from torch_geometric.datasets import Planetoid"
   ]
  },
  {
   "cell_type": "code",
   "execution_count": 8,
   "id": "2e243ef8",
   "metadata": {
    "ExecuteTime": {
     "end_time": "2021-12-16T12:27:50.800909Z",
     "start_time": "2021-12-16T12:27:39.362912Z"
    }
   },
   "outputs": [
    {
     "name": "stdout",
     "output_type": "stream",
     "text": [
      "epoch: 0 loss: 1.9467\n",
      "epoch: 1 loss: 1.8016\n",
      "epoch: 2 loss: 1.6163\n",
      "epoch: 3 loss: 1.4077\n",
      "epoch: 4 loss: 1.2067\n",
      "epoch: 5 loss: 1.0091\n",
      "epoch: 6 loss: 0.8098\n",
      "epoch: 7 loss: 0.6256\n",
      "epoch: 8 loss: 0.4705\n",
      "epoch: 9 loss: 0.3504\n",
      "Accuracy: 0.7863\n",
      "epoch: 10 loss: 0.2516\n",
      "epoch: 11 loss: 0.1765\n",
      "epoch: 12 loss: 0.1226\n",
      "epoch: 13 loss: 0.0862\n",
      "epoch: 14 loss: 0.0620\n",
      "epoch: 15 loss: 0.0458\n",
      "epoch: 16 loss: 0.0346\n",
      "epoch: 17 loss: 0.0278\n",
      "epoch: 18 loss: 0.0237\n",
      "epoch: 19 loss: 0.0206\n",
      "Accuracy: 0.7897\n",
      "epoch: 20 loss: 0.0184\n",
      "epoch: 21 loss: 0.0165\n",
      "epoch: 22 loss: 0.0153\n",
      "epoch: 23 loss: 0.0149\n",
      "epoch: 24 loss: 0.0139\n",
      "epoch: 25 loss: 0.0137\n",
      "epoch: 26 loss: 0.0130\n",
      "epoch: 27 loss: 0.0131\n",
      "epoch: 28 loss: 0.0129\n",
      "epoch: 29 loss: 0.0128\n",
      "Accuracy: 0.7790\n",
      "epoch: 30 loss: 0.0126\n",
      "epoch: 31 loss: 0.0122\n",
      "epoch: 32 loss: 0.0117\n",
      "epoch: 33 loss: 0.0118\n",
      "epoch: 34 loss: 0.0107\n",
      "epoch: 35 loss: 0.0113\n",
      "epoch: 36 loss: 0.0118\n",
      "epoch: 37 loss: 0.0132\n",
      "epoch: 38 loss: 0.0094\n",
      "epoch: 39 loss: 0.0096\n",
      "Accuracy: 0.7868\n",
      "epoch: 40 loss: 0.0092\n",
      "epoch: 41 loss: 0.0089\n",
      "epoch: 42 loss: 0.0092\n",
      "epoch: 43 loss: 0.0079\n",
      "epoch: 44 loss: 0.0101\n",
      "epoch: 45 loss: 0.0072\n",
      "epoch: 46 loss: 0.0073\n",
      "epoch: 47 loss: 0.0067\n",
      "epoch: 48 loss: 0.0068\n",
      "epoch: 49 loss: 0.0061\n",
      "Accuracy: 0.7824\n",
      "epoch: 50 loss: 0.0070\n",
      "epoch: 51 loss: 0.0059\n",
      "epoch: 52 loss: 0.0059\n",
      "epoch: 53 loss: 0.0056\n",
      "epoch: 54 loss: 0.0054\n",
      "epoch: 55 loss: 0.0057\n",
      "epoch: 56 loss: 0.0052\n",
      "epoch: 57 loss: 0.0048\n",
      "epoch: 58 loss: 0.0049\n",
      "epoch: 59 loss: 0.0048\n",
      "Accuracy: 0.7829\n",
      "epoch: 60 loss: 0.0045\n",
      "epoch: 61 loss: 0.0050\n",
      "epoch: 62 loss: 0.0049\n",
      "epoch: 63 loss: 0.0051\n",
      "epoch: 64 loss: 0.0046\n",
      "epoch: 65 loss: 0.0045\n",
      "epoch: 66 loss: 0.0043\n",
      "epoch: 67 loss: 0.0047\n",
      "epoch: 68 loss: 0.0043\n",
      "epoch: 69 loss: 0.0042\n",
      "Accuracy: 0.7853\n",
      "epoch: 70 loss: 0.0041\n",
      "epoch: 71 loss: 0.0039\n",
      "epoch: 72 loss: 0.0038\n",
      "epoch: 73 loss: 0.0037\n",
      "epoch: 74 loss: 0.0039\n",
      "epoch: 75 loss: 0.0040\n",
      "epoch: 76 loss: 0.0035\n",
      "epoch: 77 loss: 0.0035\n",
      "epoch: 78 loss: 0.0032\n",
      "epoch: 79 loss: 0.0034\n",
      "Accuracy: 0.7863\n",
      "epoch: 80 loss: 0.0037\n",
      "epoch: 81 loss: 0.0060\n",
      "epoch: 82 loss: 0.0037\n",
      "epoch: 83 loss: 0.0046\n",
      "epoch: 84 loss: 0.0040\n",
      "epoch: 85 loss: 0.0030\n",
      "epoch: 86 loss: 0.0031\n",
      "epoch: 87 loss: 0.0034\n",
      "epoch: 88 loss: 0.0033\n",
      "epoch: 89 loss: 0.0059\n",
      "Accuracy: 0.7809\n",
      "epoch: 90 loss: 0.0050\n",
      "epoch: 91 loss: 0.0137\n",
      "epoch: 92 loss: 0.0037\n",
      "epoch: 93 loss: 0.0076\n",
      "epoch: 94 loss: 0.0119\n",
      "epoch: 95 loss: 0.0043\n",
      "epoch: 96 loss: 0.0037\n",
      "epoch: 97 loss: 0.0075\n",
      "epoch: 98 loss: 0.0077\n",
      "epoch: 99 loss: 0.0059\n",
      "Accuracy: 0.7872\n",
      "epoch: 100 loss: 0.0037\n",
      "epoch: 101 loss: 0.0034\n",
      "epoch: 102 loss: 0.0047\n",
      "epoch: 103 loss: 0.0079\n",
      "epoch: 104 loss: 0.0038\n",
      "epoch: 105 loss: 0.0032\n",
      "epoch: 106 loss: 0.0030\n",
      "epoch: 107 loss: 0.0036\n",
      "epoch: 108 loss: 0.0039\n",
      "epoch: 109 loss: 0.0049\n",
      "Accuracy: 0.7771\n",
      "epoch: 110 loss: 0.0030\n",
      "epoch: 111 loss: 0.0024\n",
      "epoch: 112 loss: 0.0025\n",
      "epoch: 113 loss: 0.0026\n",
      "epoch: 114 loss: 0.0040\n",
      "epoch: 115 loss: 0.0027\n",
      "epoch: 116 loss: 0.0026\n",
      "epoch: 117 loss: 0.0024\n",
      "epoch: 118 loss: 0.0024\n",
      "epoch: 119 loss: 0.0024\n",
      "Accuracy: 0.7805\n",
      "epoch: 120 loss: 0.0025\n",
      "epoch: 121 loss: 0.0025\n",
      "epoch: 122 loss: 0.0024\n",
      "epoch: 123 loss: 0.0027\n",
      "epoch: 124 loss: 0.0028\n",
      "epoch: 125 loss: 0.0025\n",
      "epoch: 126 loss: 0.0025\n",
      "epoch: 127 loss: 0.0024\n",
      "epoch: 128 loss: 0.0026\n",
      "epoch: 129 loss: 0.0025\n",
      "Accuracy: 0.7834\n",
      "epoch: 130 loss: 0.0026\n",
      "epoch: 131 loss: 0.0026\n",
      "epoch: 132 loss: 0.0025\n",
      "epoch: 133 loss: 0.0023\n",
      "epoch: 134 loss: 0.0024\n",
      "epoch: 135 loss: 0.0026\n",
      "epoch: 136 loss: 0.0025\n",
      "epoch: 137 loss: 0.0024\n",
      "epoch: 138 loss: 0.0023\n",
      "epoch: 139 loss: 0.0026\n",
      "Accuracy: 0.7858\n",
      "epoch: 140 loss: 0.0023\n",
      "epoch: 141 loss: 0.0024\n",
      "epoch: 142 loss: 0.0025\n",
      "epoch: 143 loss: 0.0024\n",
      "epoch: 144 loss: 0.0025\n",
      "epoch: 145 loss: 0.0028\n",
      "epoch: 146 loss: 0.0025\n",
      "epoch: 147 loss: 0.0027\n",
      "epoch: 148 loss: 0.0025\n",
      "epoch: 149 loss: 0.0024\n",
      "Accuracy: 0.7829\n",
      "epoch: 150 loss: 0.0023\n",
      "epoch: 151 loss: 0.0023\n",
      "epoch: 152 loss: 0.0024\n",
      "epoch: 153 loss: 0.0023\n",
      "epoch: 154 loss: 0.0026\n",
      "epoch: 155 loss: 0.0025\n",
      "epoch: 156 loss: 0.0022\n",
      "epoch: 157 loss: 0.0023\n",
      "epoch: 158 loss: 0.0023\n",
      "epoch: 159 loss: 0.0021\n",
      "Accuracy: 0.7853\n",
      "epoch: 160 loss: 0.0023\n",
      "epoch: 161 loss: 0.0023\n",
      "epoch: 162 loss: 0.0024\n",
      "epoch: 163 loss: 0.0021\n",
      "epoch: 164 loss: 0.0023\n",
      "epoch: 165 loss: 0.0020\n",
      "epoch: 166 loss: 0.0022\n",
      "epoch: 167 loss: 0.0021\n",
      "epoch: 168 loss: 0.0021\n",
      "epoch: 169 loss: 0.0021\n",
      "Accuracy: 0.7843\n",
      "epoch: 170 loss: 0.0024\n",
      "epoch: 171 loss: 0.0020\n",
      "epoch: 172 loss: 0.0022\n",
      "epoch: 173 loss: 0.0022\n",
      "epoch: 174 loss: 0.0021\n",
      "epoch: 175 loss: 0.0021\n",
      "epoch: 176 loss: 0.0023\n",
      "epoch: 177 loss: 0.0022\n",
      "epoch: 178 loss: 0.0023\n",
      "epoch: 179 loss: 0.0022\n",
      "Accuracy: 0.7824\n",
      "epoch: 180 loss: 0.0021\n",
      "epoch: 181 loss: 0.0021\n",
      "epoch: 182 loss: 0.0023\n",
      "epoch: 183 loss: 0.0023\n",
      "epoch: 184 loss: 0.0022\n",
      "epoch: 185 loss: 0.0021\n",
      "epoch: 186 loss: 0.0021\n",
      "epoch: 187 loss: 0.0020\n",
      "epoch: 188 loss: 0.0021\n",
      "epoch: 189 loss: 0.0022\n",
      "Accuracy: 0.7848\n",
      "epoch: 190 loss: 0.0021\n",
      "epoch: 191 loss: 0.0020\n",
      "epoch: 192 loss: 0.0021\n",
      "epoch: 193 loss: 0.0019\n",
      "epoch: 194 loss: 0.0021\n",
      "epoch: 195 loss: 0.0022\n",
      "epoch: 196 loss: 0.0021\n",
      "epoch: 197 loss: 0.0021\n",
      "epoch: 198 loss: 0.0020\n",
      "epoch: 199 loss: 0.0021\n",
      "Accuracy: 0.7863\n"
     ]
    }
   ],
   "source": [
    "model = GATNet(features.shape[1], len(label_to_index)).to(device)\n",
    "# model = GCNNet(features.shape[1], len(label_to_index)).to(device)\n",
    "\n",
    "optimizer = torch.optim.Adam(model.parameters(), lr=0.01, weight_decay=5e-4)\n",
    "\n",
    "for epoch in range(200):\n",
    "    optimizer.zero_grad()\n",
    "    out = model(cora)\n",
    "    loss = F.nll_loss(out[train_mask], cora.y[train_mask])\n",
    "    print('epoch: %d loss: %.4f' %(epoch, loss))\n",
    "    loss.backward()\n",
    "    optimizer.step()\n",
    "    \n",
    "    if((epoch + 1)% 10 == 0):\n",
    "        model.eval()\n",
    "        _, pred = model(cora).max(dim=1)\n",
    "        correct = int(pred[test_mask].eq(cora.y[test_mask]).sum().item())\n",
    "        acc = correct / len(test_mask)\n",
    "        print('Accuracy: {:.4f}'.format(acc))\n",
    "        model.train()\n"
   ]
  },
  {
   "cell_type": "markdown",
   "id": "adcbf230",
   "metadata": {},
   "source": [
    "# PR"
   ]
  },
  {
   "cell_type": "code",
   "execution_count": 9,
   "id": "9ec3ccce",
   "metadata": {},
   "outputs": [
    {
     "name": "stdout",
     "output_type": "stream",
     "text": [
      "              precision    recall  f1-score   support\n",
      "\n",
      "           0     0.8861    0.8104    0.8466       691\n",
      "           1     0.3723    0.8947    0.5258        57\n",
      "           2     0.7751    0.8344    0.8037       157\n",
      "           3     0.6688    0.9163    0.7732       227\n",
      "           4     0.8113    0.6214    0.7038       346\n",
      "           5     0.8903    0.8820    0.8861       322\n",
      "           6     0.7532    0.6604    0.7038       268\n",
      "\n",
      "    accuracy                         0.7863      2068\n",
      "   macro avg     0.7367    0.8028    0.7490      2068\n",
      "weighted avg     0.8106    0.7863    0.7902      2068\n",
      "\n",
      "0.786266924564797\n",
      "0.748986618023314\n"
     ]
    }
   ],
   "source": [
    "\n",
    "\n",
    "A  = pred[test_mask].numpy()\n",
    "type(A)\n",
    "B = cora.y[test_mask].numpy()\n",
    "\n",
    "from sklearn.metrics import classification_report\n",
    "from sklearn.metrics import f1_score\n",
    "\n",
    "print(classification_report(y_true = A,y_pred = B,digits=4))\n",
    "\n",
    "print(f1_score(y_true=A,y_pred=B, average=\"micro\"))\n",
    "\n",
    "print(f1_score(y_true=A,y_pred=B,average=\"macro\"))\n"
   ]
  },
  {
   "cell_type": "markdown",
   "id": "0d3e7e3b",
   "metadata": {},
   "source": [
    "# 画图"
   ]
  },
  {
   "cell_type": "code",
   "execution_count": 10,
   "id": "8d5a591b",
   "metadata": {
    "ExecuteTime": {
     "end_time": "2021-12-16T12:27:54.554864Z",
     "start_time": "2021-12-16T12:27:50.887435Z"
    }
   },
   "outputs": [
    {
     "data": {
      "image/png": "[encoded data removed]",
      "text/plain": [
       "<Figure size 576x432 with 1 Axes>"
      ]
     },
     "metadata": {
      "needs_background": "light"
     },
     "output_type": "display_data"
    }
   ],
   "source": [
    "from sklearn.manifold import TSNE\n",
    "\n",
    "import matplotlib.pyplot as plt\n",
    "\n",
    "import matplotlib\n",
    "\n",
    "\n",
    "ts = TSNE(n_components=2)\n",
    "ts.fit_transform(out[test_mask].to('cpu').detach().numpy())\n",
    "\n",
    "x = ts.embedding_\n",
    "y = cora.y[test_mask].to('cpu').detach().numpy()\n",
    "\n",
    "xi = []\n",
    "for i in range(7):\n",
    "    xi.append(x[np.where(y==i)])\n",
    "\n",
    "colors = ['mediumblue','green','red','yellow','cyan','mediumvioletred','mediumspringgreen']\n",
    "plt.figure(figsize=(8, 6))\n",
    "# plt.title('GAT_3_layer')\n",
    "for i in range(7):\n",
    "    plt.scatter(xi[i][:,0],xi[i][:,1],s=30,color=colors[i],marker='o',alpha=1)\n",
    "plt.savefig('GAT_3_layer_(5678).png',dpi=300)"
   ]
  },
  {
   "cell_type": "code",
   "execution_count": 11,
   "id": "1e0c223e",
   "metadata": {},
   "outputs": [
    {
     "data": {
      "text/plain": [
       "7969"
      ]
     },
     "execution_count": 11,
     "metadata": {},
     "output_type": "execute_result"
    }
   ],
   "source": [
    "1981+1208+819+768+1156+884+1153\n"
   ]
  },
  {
   "cell_type": "code",
   "execution_count": null,
   "id": "dc495c50",
   "metadata": {},
   "outputs": [],
   "source": []
  },
  {
   "cell_type": "code",
   "execution_count": null,
   "id": "e5e767a6",
   "metadata": {},
   "outputs": [],
   "source": []
  }
 ],
 "metadata": {
  "kernelspec": {
   "display_name": "Python 3.7.0 ('gcn_pytorch')",
   "language": "python",
   "name": "python3"
  },
  "language_info": {
   "codemirror_mode": {
    "name": "ipython",
    "version": 3
   },
   "file_extension": ".py",
   "mimetype": "text/x-python",
   "name": "python",
   "nbconvert_exporter": "python",
   "pygments_lexer": "ipython3",
   "version": "3.7.0"
  },
  "toc": {
   "base_numbering": 1,
   "nav_menu": {},
   "number_sections": true,
   "sideBar": true,
   "skip_h1_title": false,
   "title_cell": "Table of Contents",
   "title_sidebar": "Contents",
   "toc_cell": false,
   "toc_position": {},
   "toc_section_display": true,
   "toc_window_display": false
  },
  "varInspector": {
   "cols": {
    "lenName": 16,
    "lenType": 16,
    "lenVar": 40
   },
   "kernels_config": {
    "python": {
     "delete_cmd_postfix": "",
     "delete_cmd_prefix": "del ",
     "library": "var_list.py",
     "varRefreshCmd": "print(var_dic_list())"
    },
    "r": {
     "delete_cmd_postfix": ") ",
     "delete_cmd_prefix": "rm(",
     "library": "var_list.r",
     "varRefreshCmd": "cat(var_dic_list()) "
    }
   },
   "types_to_exclude": [
    "module",
    "function",
    "builtin_function_or_method",
    "instance",
    "_Feature"
   ],
   "window_display": false
  },
  "vscode": {
   "interpreter": {
    "hash": "1d3a39f4b557d3efe1e24f37196ad42623af4fe05dd76289d4bf6459bfc16140"
   }
  }
 },
 "nbformat": 4,
 "nbformat_minor": 5
}
